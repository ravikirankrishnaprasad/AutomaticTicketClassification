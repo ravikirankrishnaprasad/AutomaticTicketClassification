{
 "cells": [
  {
   "cell_type": "markdown",
   "metadata": {
    "id": "rhR-ZUkwJrFn"
   },
   "source": [
    "## Problem Statement\n",
    "\n",
    "You need to build a model that is able to classify customer complaints based on the products/services. By doing so, you can segregate these tickets into their relevant categories and, therefore, help in the quick resolution of the issue.\n",
    "\n",
    "You will be doing topic modelling on the <b>.json</b> data provided by the company. Since this data is not labelled, you need to apply NMF to analyse patterns and classify tickets into the following five clusters based on their products/services:\n",
    "\n",
    "* Credit card / Prepaid card\n",
    "\n",
    "* Bank account services\n",
    "\n",
    "* Theft/Dispute reporting\n",
    "\n",
    "* Mortgages/loans\n",
    "\n",
    "* Others\n",
    "\n",
    "\n",
    "With the help of topic modelling, you will be able to map each ticket onto its respective department/category. You can then use this data to train any supervised model such as logistic regression, decision tree or random forest. Using this trained model, you can classify any new customer complaint support ticket into its relevant department."
   ]
  },
  {
   "cell_type": "markdown",
   "metadata": {
    "id": "mcgXVNyaLUFS"
   },
   "source": [
    "## Pipelines that needs to be performed:\n",
    "\n",
    "You need to perform the following eight major tasks to complete the assignment:\n",
    "\n",
    "1.  Data loading\n",
    "\n",
    "2. Text preprocessing\n",
    "\n",
    "3. Exploratory data analysis (EDA)\n",
    "\n",
    "4. Feature extraction\n",
    "\n",
    "5. Topic modelling\n",
    "\n",
    "6. Model building using supervised learning\n",
    "\n",
    "7. Model training and evaluation\n",
    "\n",
    "8. Model inference"
   ]
  },
  {
   "cell_type": "markdown",
   "metadata": {
    "id": "JuLFIymAL58u"
   },
   "source": [
    "## Importing the necessary libraries"
   ]
  },
  {
   "cell_type": "code",
   "execution_count": 2,
   "metadata": {
    "id": "O-Q9pqrcJrFr"
   },
   "outputs": [],
   "source": [
    "import json\n",
    "import numpy as np\n",
    "import pandas as pd\n",
    "import re, nltk, spacy, string\n",
    "import en_core_web_sm\n",
    "nlp = en_core_web_sm.load()\n",
    "import seaborn as sns\n",
    "import matplotlib.pyplot as plt\n",
    "%matplotlib inline\n",
    "\n",
    "from plotly.offline import plot\n",
    "import plotly.graph_objects as go\n",
    "import plotly.express as px\n",
    "\n",
    "from tqdm import tqdm\n",
    "\n",
    "from sklearn.feature_extraction.text import CountVectorizer, TfidfVectorizer\n",
    "from pprint import pprint"
   ]
  },
  {
   "cell_type": "markdown",
   "metadata": {
    "id": "KtRLCsNVJrFt"
   },
   "source": [
    "## Loading the data\n",
    "\n",
    "The data is in JSON format and we need to convert it to a dataframe."
   ]
  },
  {
   "cell_type": "code",
   "execution_count": 5,
   "metadata": {
    "id": "puVzIf_iJrFt"
   },
   "outputs": [],
   "source": [
    "# Opening JSON file\n",
    "file_name=\"complaints-2021-05-14_08_16.json\"\n",
    "f = file = open(file_name, \"r\")# Write the path to your data file and load it\n",
    "\n",
    "# returns JSON object as\n",
    "# a dictionary\n",
    "data = json.load(f)\n",
    "df=pd.json_normalize(data)"
   ]
  },
  {
   "cell_type": "code",
   "execution_count": 6,
   "metadata": {
    "colab": {
     "base_uri": "https://localhost:8080/"
    },
    "id": "CWQReNjrk1Jp",
    "outputId": "feedfc0a-9ba8-45ed-c406-67da7e59f915"
   },
   "outputs": [
    {
     "data": {
      "text/plain": [
       "(78313, 22)"
      ]
     },
     "execution_count": 6,
     "metadata": {},
     "output_type": "execute_result"
    }
   ],
   "source": [
    "df.shape"
   ]
  },
  {
   "cell_type": "markdown",
   "metadata": {
    "id": "_xYpH-sAJrFu"
   },
   "source": [
    "## Data preparation"
   ]
  },
  {
   "cell_type": "code",
   "execution_count": 7,
   "metadata": {
    "colab": {
     "base_uri": "https://localhost:8080/",
     "height": 411
    },
    "id": "Lf8ufHH5JrFu",
    "outputId": "2954cecc-5114-418d-ca2c-76db789d461f"
   },
   "outputs": [
    {
     "data": {
      "text/html": [
       "<div>\n",
       "<style scoped>\n",
       "    .dataframe tbody tr th:only-of-type {\n",
       "        vertical-align: middle;\n",
       "    }\n",
       "\n",
       "    .dataframe tbody tr th {\n",
       "        vertical-align: top;\n",
       "    }\n",
       "\n",
       "    .dataframe thead th {\n",
       "        text-align: right;\n",
       "    }\n",
       "</style>\n",
       "<table border=\"1\" class=\"dataframe\">\n",
       "  <thead>\n",
       "    <tr style=\"text-align: right;\">\n",
       "      <th></th>\n",
       "      <th>_index</th>\n",
       "      <th>_type</th>\n",
       "      <th>_id</th>\n",
       "      <th>_score</th>\n",
       "      <th>_source.tags</th>\n",
       "      <th>_source.zip_code</th>\n",
       "      <th>_source.complaint_id</th>\n",
       "      <th>_source.issue</th>\n",
       "      <th>_source.date_received</th>\n",
       "      <th>_source.state</th>\n",
       "      <th>...</th>\n",
       "      <th>_source.company_response</th>\n",
       "      <th>_source.company</th>\n",
       "      <th>_source.submitted_via</th>\n",
       "      <th>_source.date_sent_to_company</th>\n",
       "      <th>_source.company_public_response</th>\n",
       "      <th>_source.sub_product</th>\n",
       "      <th>_source.timely</th>\n",
       "      <th>_source.complaint_what_happened</th>\n",
       "      <th>_source.sub_issue</th>\n",
       "      <th>_source.consumer_consent_provided</th>\n",
       "    </tr>\n",
       "  </thead>\n",
       "  <tbody>\n",
       "    <tr>\n",
       "      <th>0</th>\n",
       "      <td>complaint-public-v2</td>\n",
       "      <td>complaint</td>\n",
       "      <td>3211475</td>\n",
       "      <td>0.0</td>\n",
       "      <td>None</td>\n",
       "      <td>90301</td>\n",
       "      <td>3211475</td>\n",
       "      <td>Attempts to collect debt not owed</td>\n",
       "      <td>2019-04-13T12:00:00-05:00</td>\n",
       "      <td>CA</td>\n",
       "      <td>...</td>\n",
       "      <td>Closed with explanation</td>\n",
       "      <td>JPMORGAN CHASE &amp; CO.</td>\n",
       "      <td>Web</td>\n",
       "      <td>2019-04-13T12:00:00-05:00</td>\n",
       "      <td>None</td>\n",
       "      <td>Credit card debt</td>\n",
       "      <td>Yes</td>\n",
       "      <td></td>\n",
       "      <td>Debt is not yours</td>\n",
       "      <td>Consent not provided</td>\n",
       "    </tr>\n",
       "    <tr>\n",
       "      <th>1</th>\n",
       "      <td>complaint-public-v2</td>\n",
       "      <td>complaint</td>\n",
       "      <td>3229299</td>\n",
       "      <td>0.0</td>\n",
       "      <td>Servicemember</td>\n",
       "      <td>319XX</td>\n",
       "      <td>3229299</td>\n",
       "      <td>Written notification about debt</td>\n",
       "      <td>2019-05-01T12:00:00-05:00</td>\n",
       "      <td>GA</td>\n",
       "      <td>...</td>\n",
       "      <td>Closed with explanation</td>\n",
       "      <td>JPMORGAN CHASE &amp; CO.</td>\n",
       "      <td>Web</td>\n",
       "      <td>2019-05-01T12:00:00-05:00</td>\n",
       "      <td>None</td>\n",
       "      <td>Credit card debt</td>\n",
       "      <td>Yes</td>\n",
       "      <td>Good morning my name is XXXX XXXX and I apprec...</td>\n",
       "      <td>Didn't receive enough information to verify debt</td>\n",
       "      <td>Consent provided</td>\n",
       "    </tr>\n",
       "    <tr>\n",
       "      <th>2</th>\n",
       "      <td>complaint-public-v2</td>\n",
       "      <td>complaint</td>\n",
       "      <td>3199379</td>\n",
       "      <td>0.0</td>\n",
       "      <td>None</td>\n",
       "      <td>77069</td>\n",
       "      <td>3199379</td>\n",
       "      <td>Other features, terms, or problems</td>\n",
       "      <td>2019-04-02T12:00:00-05:00</td>\n",
       "      <td>TX</td>\n",
       "      <td>...</td>\n",
       "      <td>Closed with explanation</td>\n",
       "      <td>JPMORGAN CHASE &amp; CO.</td>\n",
       "      <td>Web</td>\n",
       "      <td>2019-04-02T12:00:00-05:00</td>\n",
       "      <td>None</td>\n",
       "      <td>General-purpose credit card or charge card</td>\n",
       "      <td>Yes</td>\n",
       "      <td>I upgraded my XXXX XXXX card in XX/XX/2018 and...</td>\n",
       "      <td>Problem with rewards from credit card</td>\n",
       "      <td>Consent provided</td>\n",
       "    </tr>\n",
       "    <tr>\n",
       "      <th>3</th>\n",
       "      <td>complaint-public-v2</td>\n",
       "      <td>complaint</td>\n",
       "      <td>2673060</td>\n",
       "      <td>0.0</td>\n",
       "      <td>None</td>\n",
       "      <td>48066</td>\n",
       "      <td>2673060</td>\n",
       "      <td>Trouble during payment process</td>\n",
       "      <td>2017-09-13T12:00:00-05:00</td>\n",
       "      <td>MI</td>\n",
       "      <td>...</td>\n",
       "      <td>Closed with explanation</td>\n",
       "      <td>JPMORGAN CHASE &amp; CO.</td>\n",
       "      <td>Web</td>\n",
       "      <td>2017-09-14T12:00:00-05:00</td>\n",
       "      <td>None</td>\n",
       "      <td>Conventional home mortgage</td>\n",
       "      <td>Yes</td>\n",
       "      <td></td>\n",
       "      <td>None</td>\n",
       "      <td>Consent not provided</td>\n",
       "    </tr>\n",
       "    <tr>\n",
       "      <th>4</th>\n",
       "      <td>complaint-public-v2</td>\n",
       "      <td>complaint</td>\n",
       "      <td>3203545</td>\n",
       "      <td>0.0</td>\n",
       "      <td>None</td>\n",
       "      <td>10473</td>\n",
       "      <td>3203545</td>\n",
       "      <td>Fees or interest</td>\n",
       "      <td>2019-04-05T12:00:00-05:00</td>\n",
       "      <td>NY</td>\n",
       "      <td>...</td>\n",
       "      <td>Closed with explanation</td>\n",
       "      <td>JPMORGAN CHASE &amp; CO.</td>\n",
       "      <td>Referral</td>\n",
       "      <td>2019-04-05T12:00:00-05:00</td>\n",
       "      <td>None</td>\n",
       "      <td>General-purpose credit card or charge card</td>\n",
       "      <td>Yes</td>\n",
       "      <td></td>\n",
       "      <td>Charged too much interest</td>\n",
       "      <td>N/A</td>\n",
       "    </tr>\n",
       "  </tbody>\n",
       "</table>\n",
       "<p>5 rows × 22 columns</p>\n",
       "</div>"
      ],
      "text/plain": [
       "                _index      _type      _id  _score   _source.tags  \\\n",
       "0  complaint-public-v2  complaint  3211475     0.0           None   \n",
       "1  complaint-public-v2  complaint  3229299     0.0  Servicemember   \n",
       "2  complaint-public-v2  complaint  3199379     0.0           None   \n",
       "3  complaint-public-v2  complaint  2673060     0.0           None   \n",
       "4  complaint-public-v2  complaint  3203545     0.0           None   \n",
       "\n",
       "  _source.zip_code _source.complaint_id                       _source.issue  \\\n",
       "0            90301              3211475   Attempts to collect debt not owed   \n",
       "1            319XX              3229299     Written notification about debt   \n",
       "2            77069              3199379  Other features, terms, or problems   \n",
       "3            48066              2673060      Trouble during payment process   \n",
       "4            10473              3203545                    Fees or interest   \n",
       "\n",
       "       _source.date_received _source.state  ... _source.company_response  \\\n",
       "0  2019-04-13T12:00:00-05:00            CA  ...  Closed with explanation   \n",
       "1  2019-05-01T12:00:00-05:00            GA  ...  Closed with explanation   \n",
       "2  2019-04-02T12:00:00-05:00            TX  ...  Closed with explanation   \n",
       "3  2017-09-13T12:00:00-05:00            MI  ...  Closed with explanation   \n",
       "4  2019-04-05T12:00:00-05:00            NY  ...  Closed with explanation   \n",
       "\n",
       "        _source.company _source.submitted_via _source.date_sent_to_company  \\\n",
       "0  JPMORGAN CHASE & CO.                   Web    2019-04-13T12:00:00-05:00   \n",
       "1  JPMORGAN CHASE & CO.                   Web    2019-05-01T12:00:00-05:00   \n",
       "2  JPMORGAN CHASE & CO.                   Web    2019-04-02T12:00:00-05:00   \n",
       "3  JPMORGAN CHASE & CO.                   Web    2017-09-14T12:00:00-05:00   \n",
       "4  JPMORGAN CHASE & CO.              Referral    2019-04-05T12:00:00-05:00   \n",
       "\n",
       "  _source.company_public_response                         _source.sub_product  \\\n",
       "0                            None                            Credit card debt   \n",
       "1                            None                            Credit card debt   \n",
       "2                            None  General-purpose credit card or charge card   \n",
       "3                            None                  Conventional home mortgage   \n",
       "4                            None  General-purpose credit card or charge card   \n",
       "\n",
       "  _source.timely                    _source.complaint_what_happened  \\\n",
       "0            Yes                                                      \n",
       "1            Yes  Good morning my name is XXXX XXXX and I apprec...   \n",
       "2            Yes  I upgraded my XXXX XXXX card in XX/XX/2018 and...   \n",
       "3            Yes                                                      \n",
       "4            Yes                                                      \n",
       "\n",
       "                                  _source.sub_issue  \\\n",
       "0                                 Debt is not yours   \n",
       "1  Didn't receive enough information to verify debt   \n",
       "2             Problem with rewards from credit card   \n",
       "3                                              None   \n",
       "4                         Charged too much interest   \n",
       "\n",
       "  _source.consumer_consent_provided  \n",
       "0              Consent not provided  \n",
       "1                  Consent provided  \n",
       "2                  Consent provided  \n",
       "3              Consent not provided  \n",
       "4                               N/A  \n",
       "\n",
       "[5 rows x 22 columns]"
      ]
     },
     "execution_count": 7,
     "metadata": {},
     "output_type": "execute_result"
    }
   ],
   "source": [
    "# Inspect the dataframe to understand the given data.\n",
    "df.head()\n"
   ]
  },
  {
   "cell_type": "code",
   "execution_count": 8,
   "metadata": {
    "colab": {
     "base_uri": "https://localhost:8080/",
     "height": 429
    },
    "id": "YdYR7Ql3k8H_",
    "outputId": "f1420d26-2d19-475d-db0c-71940bf2a18d"
   },
   "outputs": [
    {
     "data": {
      "text/html": [
       "<div>\n",
       "<style scoped>\n",
       "    .dataframe tbody tr th:only-of-type {\n",
       "        vertical-align: middle;\n",
       "    }\n",
       "\n",
       "    .dataframe tbody tr th {\n",
       "        vertical-align: top;\n",
       "    }\n",
       "\n",
       "    .dataframe thead th {\n",
       "        text-align: right;\n",
       "    }\n",
       "</style>\n",
       "<table border=\"1\" class=\"dataframe\">\n",
       "  <thead>\n",
       "    <tr style=\"text-align: right;\">\n",
       "      <th></th>\n",
       "      <th>_index</th>\n",
       "      <th>_type</th>\n",
       "      <th>_id</th>\n",
       "      <th>_score</th>\n",
       "      <th>_source.tags</th>\n",
       "      <th>_source.zip_code</th>\n",
       "      <th>_source.complaint_id</th>\n",
       "      <th>_source.issue</th>\n",
       "      <th>_source.date_received</th>\n",
       "      <th>_source.state</th>\n",
       "      <th>...</th>\n",
       "      <th>_source.company_response</th>\n",
       "      <th>_source.company</th>\n",
       "      <th>_source.submitted_via</th>\n",
       "      <th>_source.date_sent_to_company</th>\n",
       "      <th>_source.company_public_response</th>\n",
       "      <th>_source.sub_product</th>\n",
       "      <th>_source.timely</th>\n",
       "      <th>_source.complaint_what_happened</th>\n",
       "      <th>_source.sub_issue</th>\n",
       "      <th>_source.consumer_consent_provided</th>\n",
       "    </tr>\n",
       "  </thead>\n",
       "  <tbody>\n",
       "    <tr>\n",
       "      <th>78308</th>\n",
       "      <td>complaint-public-v2</td>\n",
       "      <td>complaint</td>\n",
       "      <td>3105617</td>\n",
       "      <td>0.0</td>\n",
       "      <td>None</td>\n",
       "      <td>08857</td>\n",
       "      <td>3105617</td>\n",
       "      <td>Closing an account</td>\n",
       "      <td>2018-12-20T12:00:00-05:00</td>\n",
       "      <td>NJ</td>\n",
       "      <td>...</td>\n",
       "      <td>Closed with explanation</td>\n",
       "      <td>JPMORGAN CHASE &amp; CO.</td>\n",
       "      <td>Web</td>\n",
       "      <td>2018-12-21T12:00:00-05:00</td>\n",
       "      <td>None</td>\n",
       "      <td>Checking account</td>\n",
       "      <td>Yes</td>\n",
       "      <td></td>\n",
       "      <td>Funds not received from closed account</td>\n",
       "      <td>Consent not provided</td>\n",
       "    </tr>\n",
       "    <tr>\n",
       "      <th>78309</th>\n",
       "      <td>complaint-public-v2</td>\n",
       "      <td>complaint</td>\n",
       "      <td>3091984</td>\n",
       "      <td>0.0</td>\n",
       "      <td>None</td>\n",
       "      <td>934XX</td>\n",
       "      <td>3091984</td>\n",
       "      <td>Other features, terms, or problems</td>\n",
       "      <td>2018-12-05T12:00:00-05:00</td>\n",
       "      <td>CA</td>\n",
       "      <td>...</td>\n",
       "      <td>Closed with monetary relief</td>\n",
       "      <td>JPMORGAN CHASE &amp; CO.</td>\n",
       "      <td>Web</td>\n",
       "      <td>2018-12-05T12:00:00-05:00</td>\n",
       "      <td>None</td>\n",
       "      <td>General-purpose credit card or charge card</td>\n",
       "      <td>Yes</td>\n",
       "      <td>On Wednesday, XX/XX/XXXX I called Chas, my XXX...</td>\n",
       "      <td>Other problem</td>\n",
       "      <td>Consent provided</td>\n",
       "    </tr>\n",
       "    <tr>\n",
       "      <th>78310</th>\n",
       "      <td>complaint-public-v2</td>\n",
       "      <td>complaint</td>\n",
       "      <td>3133355</td>\n",
       "      <td>0.0</td>\n",
       "      <td>None</td>\n",
       "      <td>923XX</td>\n",
       "      <td>3133355</td>\n",
       "      <td>Problem with a lender or other company chargin...</td>\n",
       "      <td>2019-01-25T12:00:00-05:00</td>\n",
       "      <td>CA</td>\n",
       "      <td>...</td>\n",
       "      <td>Closed with explanation</td>\n",
       "      <td>JPMORGAN CHASE &amp; CO.</td>\n",
       "      <td>Web</td>\n",
       "      <td>2019-01-25T12:00:00-05:00</td>\n",
       "      <td>None</td>\n",
       "      <td>Checking account</td>\n",
       "      <td>Yes</td>\n",
       "      <td>I am not familiar with XXXX pay and did not un...</td>\n",
       "      <td>Transaction was not authorized</td>\n",
       "      <td>Consent provided</td>\n",
       "    </tr>\n",
       "    <tr>\n",
       "      <th>78311</th>\n",
       "      <td>complaint-public-v2</td>\n",
       "      <td>complaint</td>\n",
       "      <td>3110963</td>\n",
       "      <td>0.0</td>\n",
       "      <td>None</td>\n",
       "      <td>None</td>\n",
       "      <td>3110963</td>\n",
       "      <td>Other features, terms, or problems</td>\n",
       "      <td>2018-12-27T12:00:00-05:00</td>\n",
       "      <td>PA</td>\n",
       "      <td>...</td>\n",
       "      <td>Closed with monetary relief</td>\n",
       "      <td>JPMORGAN CHASE &amp; CO.</td>\n",
       "      <td>Web</td>\n",
       "      <td>2018-12-27T12:00:00-05:00</td>\n",
       "      <td>None</td>\n",
       "      <td>General-purpose credit card or charge card</td>\n",
       "      <td>Yes</td>\n",
       "      <td>I have had flawless credit for 30 yrs. I've ha...</td>\n",
       "      <td>Problem with balance transfer</td>\n",
       "      <td>Consent provided</td>\n",
       "    </tr>\n",
       "    <tr>\n",
       "      <th>78312</th>\n",
       "      <td>complaint-public-v2</td>\n",
       "      <td>complaint</td>\n",
       "      <td>2001189</td>\n",
       "      <td>0.0</td>\n",
       "      <td>None</td>\n",
       "      <td>None</td>\n",
       "      <td>2001189</td>\n",
       "      <td>Payment to acct not credited</td>\n",
       "      <td>2016-07-06T12:00:00-05:00</td>\n",
       "      <td>MI</td>\n",
       "      <td>...</td>\n",
       "      <td>Closed with explanation</td>\n",
       "      <td>JPMORGAN CHASE &amp; CO.</td>\n",
       "      <td>Web</td>\n",
       "      <td>2016-07-07T12:00:00-05:00</td>\n",
       "      <td>None</td>\n",
       "      <td>None</td>\n",
       "      <td>Yes</td>\n",
       "      <td>Roughly 10+ years ago I closed out my accounts...</td>\n",
       "      <td>None</td>\n",
       "      <td>Consent provided</td>\n",
       "    </tr>\n",
       "  </tbody>\n",
       "</table>\n",
       "<p>5 rows × 22 columns</p>\n",
       "</div>"
      ],
      "text/plain": [
       "                    _index      _type      _id  _score _source.tags  \\\n",
       "78308  complaint-public-v2  complaint  3105617     0.0         None   \n",
       "78309  complaint-public-v2  complaint  3091984     0.0         None   \n",
       "78310  complaint-public-v2  complaint  3133355     0.0         None   \n",
       "78311  complaint-public-v2  complaint  3110963     0.0         None   \n",
       "78312  complaint-public-v2  complaint  2001189     0.0         None   \n",
       "\n",
       "      _source.zip_code _source.complaint_id  \\\n",
       "78308            08857              3105617   \n",
       "78309            934XX              3091984   \n",
       "78310            923XX              3133355   \n",
       "78311             None              3110963   \n",
       "78312             None              2001189   \n",
       "\n",
       "                                           _source.issue  \\\n",
       "78308                                 Closing an account   \n",
       "78309                 Other features, terms, or problems   \n",
       "78310  Problem with a lender or other company chargin...   \n",
       "78311                 Other features, terms, or problems   \n",
       "78312                       Payment to acct not credited   \n",
       "\n",
       "           _source.date_received _source.state  ...  \\\n",
       "78308  2018-12-20T12:00:00-05:00            NJ  ...   \n",
       "78309  2018-12-05T12:00:00-05:00            CA  ...   \n",
       "78310  2019-01-25T12:00:00-05:00            CA  ...   \n",
       "78311  2018-12-27T12:00:00-05:00            PA  ...   \n",
       "78312  2016-07-06T12:00:00-05:00            MI  ...   \n",
       "\n",
       "          _source.company_response       _source.company  \\\n",
       "78308      Closed with explanation  JPMORGAN CHASE & CO.   \n",
       "78309  Closed with monetary relief  JPMORGAN CHASE & CO.   \n",
       "78310      Closed with explanation  JPMORGAN CHASE & CO.   \n",
       "78311  Closed with monetary relief  JPMORGAN CHASE & CO.   \n",
       "78312      Closed with explanation  JPMORGAN CHASE & CO.   \n",
       "\n",
       "      _source.submitted_via _source.date_sent_to_company  \\\n",
       "78308                   Web    2018-12-21T12:00:00-05:00   \n",
       "78309                   Web    2018-12-05T12:00:00-05:00   \n",
       "78310                   Web    2019-01-25T12:00:00-05:00   \n",
       "78311                   Web    2018-12-27T12:00:00-05:00   \n",
       "78312                   Web    2016-07-07T12:00:00-05:00   \n",
       "\n",
       "      _source.company_public_response  \\\n",
       "78308                            None   \n",
       "78309                            None   \n",
       "78310                            None   \n",
       "78311                            None   \n",
       "78312                            None   \n",
       "\n",
       "                              _source.sub_product _source.timely  \\\n",
       "78308                            Checking account            Yes   \n",
       "78309  General-purpose credit card or charge card            Yes   \n",
       "78310                            Checking account            Yes   \n",
       "78311  General-purpose credit card or charge card            Yes   \n",
       "78312                                        None            Yes   \n",
       "\n",
       "                         _source.complaint_what_happened  \\\n",
       "78308                                                      \n",
       "78309  On Wednesday, XX/XX/XXXX I called Chas, my XXX...   \n",
       "78310  I am not familiar with XXXX pay and did not un...   \n",
       "78311  I have had flawless credit for 30 yrs. I've ha...   \n",
       "78312  Roughly 10+ years ago I closed out my accounts...   \n",
       "\n",
       "                            _source.sub_issue  \\\n",
       "78308  Funds not received from closed account   \n",
       "78309                           Other problem   \n",
       "78310          Transaction was not authorized   \n",
       "78311           Problem with balance transfer   \n",
       "78312                                    None   \n",
       "\n",
       "      _source.consumer_consent_provided  \n",
       "78308              Consent not provided  \n",
       "78309                  Consent provided  \n",
       "78310                  Consent provided  \n",
       "78311                  Consent provided  \n",
       "78312                  Consent provided  \n",
       "\n",
       "[5 rows x 22 columns]"
      ]
     },
     "execution_count": 8,
     "metadata": {},
     "output_type": "execute_result"
    }
   ],
   "source": [
    "df.tail()"
   ]
  },
  {
   "cell_type": "code",
   "execution_count": 9,
   "metadata": {
    "colab": {
     "base_uri": "https://localhost:8080/"
    },
    "id": "5noA69q_mVyf",
    "outputId": "7eb2e319-43b7-4b76-85e3-3ebf3afd836a"
   },
   "outputs": [
    {
     "data": {
      "text/plain": [
       "(78313, 22)"
      ]
     },
     "execution_count": 9,
     "metadata": {},
     "output_type": "execute_result"
    }
   ],
   "source": [
    "df.shape"
   ]
  },
  {
   "cell_type": "code",
   "execution_count": 10,
   "metadata": {
    "colab": {
     "base_uri": "https://localhost:8080/"
    },
    "id": "dpAcEMCSmaBT",
    "outputId": "72b05f9d-255e-4fde-8ec9-68722a3e93b0"
   },
   "outputs": [
    {
     "name": "stdout",
     "output_type": "stream",
     "text": [
      "<class 'pandas.core.frame.DataFrame'>\n",
      "RangeIndex: 78313 entries, 0 to 78312\n",
      "Data columns (total 22 columns):\n",
      " #   Column                             Non-Null Count  Dtype  \n",
      "---  ------                             --------------  -----  \n",
      " 0   _index                             78313 non-null  object \n",
      " 1   _type                              78313 non-null  object \n",
      " 2   _id                                78313 non-null  object \n",
      " 3   _score                             78313 non-null  float64\n",
      " 4   _source.tags                       10900 non-null  object \n",
      " 5   _source.zip_code                   71556 non-null  object \n",
      " 6   _source.complaint_id               78313 non-null  object \n",
      " 7   _source.issue                      78313 non-null  object \n",
      " 8   _source.date_received              78313 non-null  object \n",
      " 9   _source.state                      76322 non-null  object \n",
      " 10  _source.consumer_disputed          78313 non-null  object \n",
      " 11  _source.product                    78313 non-null  object \n",
      " 12  _source.company_response           78313 non-null  object \n",
      " 13  _source.company                    78313 non-null  object \n",
      " 14  _source.submitted_via              78313 non-null  object \n",
      " 15  _source.date_sent_to_company       78313 non-null  object \n",
      " 16  _source.company_public_response    4 non-null      object \n",
      " 17  _source.sub_product                67742 non-null  object \n",
      " 18  _source.timely                     78313 non-null  object \n",
      " 19  _source.complaint_what_happened    78313 non-null  object \n",
      " 20  _source.sub_issue                  32016 non-null  object \n",
      " 21  _source.consumer_consent_provided  77305 non-null  object \n",
      "dtypes: float64(1), object(21)\n",
      "memory usage: 13.1+ MB\n"
     ]
    }
   ],
   "source": [
    "df.info()"
   ]
  },
  {
   "cell_type": "code",
   "execution_count": 11,
   "metadata": {
    "colab": {
     "base_uri": "https://localhost:8080/",
     "height": 774
    },
    "id": "1yAntcdOmvRO",
    "outputId": "57f5971a-5535-4794-dab6-cd9751186f87"
   },
   "outputs": [
    {
     "data": {
      "text/plain": [
       "_source.company_public_response      0.999949\n",
       "_source.tags                         0.860815\n",
       "_source.sub_issue                    0.591179\n",
       "_source.sub_product                  0.134984\n",
       "_source.zip_code                     0.086282\n",
       "_source.state                        0.025424\n",
       "_source.consumer_consent_provided    0.012871\n",
       "_source.company                      0.000000\n",
       "_source.complaint_what_happened      0.000000\n",
       "_source.timely                       0.000000\n",
       "_source.date_sent_to_company         0.000000\n",
       "_source.submitted_via                0.000000\n",
       "_index                               0.000000\n",
       "_source.company_response             0.000000\n",
       "_type                                0.000000\n",
       "_source.consumer_disputed            0.000000\n",
       "_source.date_received                0.000000\n",
       "_source.issue                        0.000000\n",
       "_source.complaint_id                 0.000000\n",
       "_score                               0.000000\n",
       "_id                                  0.000000\n",
       "_source.product                      0.000000\n",
       "dtype: float64"
      ]
     },
     "execution_count": 11,
     "metadata": {},
     "output_type": "execute_result"
    }
   ],
   "source": [
    "# checking for missing values\n",
    "(df.isna().sum() / df.shape[0]).sort_values(ascending=False)\n"
   ]
  },
  {
   "cell_type": "raw",
   "metadata": {
    "id": "6dNki-bqHsGz"
   },
   "source": [
    "** Missing values present in the dataset **"
   ]
  },
  {
   "cell_type": "code",
   "execution_count": 13,
   "metadata": {
    "colab": {
     "base_uri": "https://localhost:8080/"
    },
    "id": "Dwcty-wmJrFw",
    "outputId": "1d171717-94b3-443b-d974-8f8f180d41fd"
   },
   "outputs": [
    {
     "name": "stdout",
     "output_type": "stream",
     "text": [
      "Index(['_index', '_type', '_id', '_score', '_source.tags', '_source.zip_code',\n",
      "       '_source.complaint_id', '_source.issue', '_source.date_received',\n",
      "       '_source.state', '_source.consumer_disputed', '_source.product',\n",
      "       '_source.company_response', '_source.company', '_source.submitted_via',\n",
      "       '_source.date_sent_to_company', '_source.company_public_response',\n",
      "       '_source.sub_product', '_source.timely',\n",
      "       '_source.complaint_what_happened', '_source.sub_issue',\n",
      "       '_source.consumer_consent_provided'],\n",
      "      dtype='object')\n"
     ]
    }
   ],
   "source": [
    "#print the column names\n",
    "print(df.columns)"
   ]
  },
  {
   "cell_type": "code",
   "execution_count": 14,
   "metadata": {
    "id": "FYCtKXD1JrFw"
   },
   "outputs": [],
   "source": [
    "#Assign new column names\n",
    "def rename_col(col):\n",
    "    if col.startswith('_source'):\n",
    "        col = col[len('_source.'):]\n",
    "    elif col.startswith('_'):\n",
    "        col = col[1:]\n",
    "    return col"
   ]
  },
  {
   "cell_type": "code",
   "execution_count": 15,
   "metadata": {
    "id": "yU0lMTltn4L7"
   },
   "outputs": [],
   "source": [
    "df.rename(lambda x: rename_col(x), axis=1, inplace=True)"
   ]
  },
  {
   "cell_type": "code",
   "execution_count": 16,
   "metadata": {
    "colab": {
     "base_uri": "https://localhost:8080/"
    },
    "id": "0LfTRHxioBHL",
    "outputId": "0cfaff04-c9c6-408b-9fdd-fc8100238bc2"
   },
   "outputs": [
    {
     "data": {
      "text/plain": [
       "Index(['index', 'type', 'id', 'score', 'tags', 'zip_code', 'complaint_id',\n",
       "       'issue', 'date_received', 'state', 'consumer_disputed', 'product',\n",
       "       'company_response', 'company', 'submitted_via', 'date_sent_to_company',\n",
       "       'company_public_response', 'sub_product', 'timely',\n",
       "       'complaint_what_happened', 'sub_issue', 'consumer_consent_provided'],\n",
       "      dtype='object')"
      ]
     },
     "execution_count": 16,
     "metadata": {},
     "output_type": "execute_result"
    }
   ],
   "source": [
    "df.columns"
   ]
  },
  {
   "cell_type": "code",
   "execution_count": 17,
   "metadata": {
    "colab": {
     "base_uri": "https://localhost:8080/"
    },
    "id": "grQUPFL5JrFx",
    "outputId": "7f096f5d-687a-4877-fafa-4844ca1adfc0"
   },
   "outputs": [
    {
     "name": "stderr",
     "output_type": "stream",
     "text": [
      "/var/folders/nq/3fxqklb97yz93462sr2ymsrr0000gn/T/ipykernel_8256/2492469932.py:2: FutureWarning:\n",
      "\n",
      "A value is trying to be set on a copy of a DataFrame or Series through chained assignment using an inplace method.\n",
      "The behavior will change in pandas 3.0. This inplace method will never work because the intermediate object on which we are setting values always behaves as a copy.\n",
      "\n",
      "For example, when doing 'df[col].method(value, inplace=True)', try using 'df.method({col: value}, inplace=True)' or df[col] = df[col].method(value) instead, to perform the operation inplace on the original object.\n",
      "\n",
      "\n",
      "\n"
     ]
    }
   ],
   "source": [
    "#Assign nan in place of blanks in the complaints column\n",
    "df['complaint_what_happened'].replace('', np.nan, inplace=True)\n"
   ]
  },
  {
   "cell_type": "code",
   "execution_count": 19,
   "metadata": {
    "colab": {
     "base_uri": "https://localhost:8080/"
    },
    "id": "Jfxd8VSmJrFy",
    "outputId": "0864d312-fe0e-4d06-c5d1-3c5117e922ab"
   },
   "outputs": [
    {
     "data": {
      "text/plain": [
       "57241"
      ]
     },
     "execution_count": 19,
     "metadata": {},
     "output_type": "execute_result"
    }
   ],
   "source": [
    "#Remove all rows where complaints column is nan\n",
    "\n",
    "df['complaint_what_happened'].isnull().sum()"
   ]
  },
  {
   "cell_type": "code",
   "execution_count": 20,
   "metadata": {
    "id": "_S0cUbohIG2e"
   },
   "outputs": [],
   "source": [
    "#Remove all rows where complaint_what_happened column is nan\n",
    "df.dropna(subset=['complaint_what_happened'],inplace=True)"
   ]
  },
  {
   "cell_type": "code",
   "execution_count": 21,
   "metadata": {
    "colab": {
     "base_uri": "https://localhost:8080/"
    },
    "id": "cAU5abcgIRnj",
    "outputId": "dc9f340a-1f61-479f-af75-129ecfafdee0"
   },
   "outputs": [
    {
     "data": {
      "text/plain": [
       "0"
      ]
     },
     "execution_count": 21,
     "metadata": {},
     "output_type": "execute_result"
    }
   ],
   "source": [
    "df['complaint_what_happened'].isna().sum()"
   ]
  },
  {
   "cell_type": "code",
   "execution_count": 22,
   "metadata": {
    "colab": {
     "base_uri": "https://localhost:8080/"
    },
    "id": "2oG_z5hlKqtc",
    "outputId": "b02b0d23-64af-4d5a-ebb7-a03abc45f4ea"
   },
   "outputs": [
    {
     "data": {
      "text/plain": [
       "(21072, 22)"
      ]
     },
     "execution_count": 22,
     "metadata": {},
     "output_type": "execute_result"
    }
   ],
   "source": [
    "df.shape"
   ]
  },
  {
   "cell_type": "markdown",
   "metadata": {
    "id": "L944HZpsJrFy"
   },
   "source": [
    "## Prepare the text for topic modeling\n",
    "\n",
    "Once you have removed all the blank complaints, you need to:\n",
    "\n",
    "* Make the text lowercase\n",
    "* Remove text in square brackets\n",
    "* Remove punctuation\n",
    "* Remove words containing numbers\n",
    "\n",
    "\n",
    "Once you have done these cleaning operations you need to perform the following:\n",
    "* Lemmatize the texts\n",
    "* Extract the POS tags of the lemmatized text and remove all the words which have tags other than NN[tag == \"NN\"].\n"
   ]
  },
  {
   "cell_type": "code",
   "execution_count": 23,
   "metadata": {
    "id": "qm7SjjSkJrFz"
   },
   "outputs": [],
   "source": [
    "# Write your function here to clean the text and remove all the unnecessary elements.\n",
    "def clean_text(text):\n",
    "  text=text.lower()  #convert to lower case\n",
    "  text=re.sub(r'\\[.*?\\]',' ',text) #Remove text in square brackets\n",
    "  text=re.sub(r'[^\\w\\s]',' ',text) #Remove punctuation\n",
    "  text=re.sub(r'\\n', '', text) # Remove line breaks\n",
    "  text=re.sub(r'\\b\\w*\\d\\w*\\b',' ',text) #Remove words with numbers\n",
    "  text = re.sub(r' +', ' ',text) #Remove unnecessary white spaces\n",
    "\n",
    "  return text"
   ]
  },
  {
   "cell_type": "code",
   "execution_count": 25,
   "metadata": {
    "colab": {
     "base_uri": "https://localhost:8080/"
    },
    "id": "37FHkyFJzcQR",
    "outputId": "f843cfaa-ac47-452f-afe3-54b380c03456"
   },
   "outputs": [
    {
     "data": {
      "text/plain": [
       "(21072, 22)"
      ]
     },
     "execution_count": 25,
     "metadata": {},
     "output_type": "execute_result"
    }
   ],
   "source": [
    "df.shape"
   ]
  },
  {
   "cell_type": "code",
   "execution_count": 26,
   "metadata": {
    "colab": {
     "base_uri": "https://localhost:8080/"
    },
    "id": "zgOu8t8HJrFz",
    "outputId": "c2e9725d-5363-4a8b-85cb-ed168f5b5708"
   },
   "outputs": [],
   "source": [
    "#Write your function to Lemmatize the texts\n",
    "import spacy\n",
    "stop_words = spacy.lang.en.stop_words.STOP_WORDS\n",
    "# Load the English language model\n",
    "nlp = spacy.load(\"en_core_web_sm\")\n",
    "\n",
    "def lemmatize_text(text):\n",
    "    # Process the text using spaCy\n",
    "    doc = nlp(text)\n",
    "    # Lemmatize each token and remove stop words\n",
    "    lemmatized_text = \" \".join([token.lemma_ for token in doc if not token.is_stop])\n",
    "\n",
    "    return lemmatized_text"
   ]
  },
  {
   "cell_type": "code",
   "execution_count": 28,
   "metadata": {
    "id": "uXnN7aa_JrF0"
   },
   "outputs": [],
   "source": [
    "#Create a dataframe('df_clean') that will have only the complaints and the lemmatized complaints\n"
   ]
  },
  {
   "cell_type": "code",
   "execution_count": 29,
   "metadata": {
    "colab": {
     "base_uri": "https://localhost:8080/"
    },
    "id": "nOiDVvEIJrF0",
    "outputId": "d887569b-d392-4240-916d-dc2d58b8cb88"
   },
   "outputs": [
    {
     "name": "stderr",
     "output_type": "stream",
     "text": [
      "100%|███████████████████████████████████████████████████████████████████████████████████████████████████████████████████████████████████████████████████████████████| 21072/21072 [00:02<00:00, 9890.91it/s]\n"
     ]
    }
   ],
   "source": [
    "# Apply data cleaning to the complaints_what_happened column\n",
    "from tqdm import tqdm\n",
    "# Use progress_apply from tqdm on the Series\n",
    "tqdm.pandas()\n",
    "df_clean = pd.DataFrame()\n",
    "df_clean['complaints'] = df['complaint_what_happened'].progress_apply(lambda x: clean_text(x))\n"
   ]
  },
  {
   "cell_type": "code",
   "execution_count": 30,
   "metadata": {
    "colab": {
     "base_uri": "https://localhost:8080/"
    },
    "id": "XSEeIXoqxNQR",
    "outputId": "b7c01a29-29bf-405e-decd-ec25a407a946"
   },
   "outputs": [
    {
     "data": {
      "text/plain": [
       "(21072, 1)"
      ]
     },
     "execution_count": 30,
     "metadata": {},
     "output_type": "execute_result"
    }
   ],
   "source": [
    "df_clean.shape"
   ]
  },
  {
   "cell_type": "code",
   "execution_count": 31,
   "metadata": {
    "colab": {
     "base_uri": "https://localhost:8080/"
    },
    "id": "Fe5wnkvraGcI",
    "outputId": "54e3a90e-bc0d-4f74-a7f0-d17126fa3890"
   },
   "outputs": [
    {
     "name": "stderr",
     "output_type": "stream",
     "text": [
      "100%|█████████████████████████████████████████████████████████████████████████████████████████████████████████████████████████████████████████████████████████████████| 21072/21072 [15:31<00:00, 22.63it/s]\n"
     ]
    }
   ],
   "source": [
    "tqdm.pandas()\n",
    "df_clean['lemmatized'] = df_clean['complaints'].progress_apply(lambda x:lemmatize_text(x))"
   ]
  },
  {
   "cell_type": "code",
   "execution_count": 32,
   "metadata": {
    "colab": {
     "base_uri": "https://localhost:8080/"
    },
    "id": "H_TYz3LPzcQT",
    "outputId": "41068d61-0ee6-4657-b0c7-6a484e371cbc"
   },
   "outputs": [
    {
     "data": {
      "text/plain": [
       "(21072, 2)"
      ]
     },
     "execution_count": 32,
     "metadata": {},
     "output_type": "execute_result"
    }
   ],
   "source": [
    "df_clean.shape"
   ]
  },
  {
   "cell_type": "code",
   "execution_count": 33,
   "metadata": {
    "colab": {
     "base_uri": "https://localhost:8080/",
     "height": 206
    },
    "id": "OFLwykhn5n_9",
    "outputId": "9f094644-f50d-423b-ef89-a09992083d65"
   },
   "outputs": [
    {
     "data": {
      "text/html": [
       "<div>\n",
       "<style scoped>\n",
       "    .dataframe tbody tr th:only-of-type {\n",
       "        vertical-align: middle;\n",
       "    }\n",
       "\n",
       "    .dataframe tbody tr th {\n",
       "        vertical-align: top;\n",
       "    }\n",
       "\n",
       "    .dataframe thead th {\n",
       "        text-align: right;\n",
       "    }\n",
       "</style>\n",
       "<table border=\"1\" class=\"dataframe\">\n",
       "  <thead>\n",
       "    <tr style=\"text-align: right;\">\n",
       "      <th></th>\n",
       "      <th>complaints</th>\n",
       "      <th>lemmatized</th>\n",
       "    </tr>\n",
       "  </thead>\n",
       "  <tbody>\n",
       "    <tr>\n",
       "      <th>1</th>\n",
       "      <td>good morning my name is xxxx xxxx and i apprec...</td>\n",
       "      <td>good morning xxxx xxxx appreciate help stop ch...</td>\n",
       "    </tr>\n",
       "    <tr>\n",
       "      <th>2</th>\n",
       "      <td>i upgraded my xxxx xxxx card in xx xx and was ...</td>\n",
       "      <td>upgrade xxxx xxxx card xx xx tell agent upgrad...</td>\n",
       "    </tr>\n",
       "    <tr>\n",
       "      <th>10</th>\n",
       "      <td>chase card was reported on xx xx however fraud...</td>\n",
       "      <td>chase card report xx xx fraudulent application...</td>\n",
       "    </tr>\n",
       "    <tr>\n",
       "      <th>11</th>\n",
       "      <td>on xx xx while trying to book a xxxx xxxx tick...</td>\n",
       "      <td>xx xx try book xxxx xxxx ticket come offer app...</td>\n",
       "    </tr>\n",
       "    <tr>\n",
       "      <th>14</th>\n",
       "      <td>my grand son give me check for i deposit it in...</td>\n",
       "      <td>grand son check deposit chase account fund cle...</td>\n",
       "    </tr>\n",
       "  </tbody>\n",
       "</table>\n",
       "</div>"
      ],
      "text/plain": [
       "                                           complaints  \\\n",
       "1   good morning my name is xxxx xxxx and i apprec...   \n",
       "2   i upgraded my xxxx xxxx card in xx xx and was ...   \n",
       "10  chase card was reported on xx xx however fraud...   \n",
       "11  on xx xx while trying to book a xxxx xxxx tick...   \n",
       "14  my grand son give me check for i deposit it in...   \n",
       "\n",
       "                                           lemmatized  \n",
       "1   good morning xxxx xxxx appreciate help stop ch...  \n",
       "2   upgrade xxxx xxxx card xx xx tell agent upgrad...  \n",
       "10  chase card report xx xx fraudulent application...  \n",
       "11  xx xx try book xxxx xxxx ticket come offer app...  \n",
       "14  grand son check deposit chase account fund cle...  "
      ]
     },
     "execution_count": 33,
     "metadata": {},
     "output_type": "execute_result"
    }
   ],
   "source": [
    "df_clean.head()"
   ]
  },
  {
   "cell_type": "code",
   "execution_count": 34,
   "metadata": {
    "colab": {
     "base_uri": "https://localhost:8080/"
    },
    "id": "j_phOmXszcQZ",
    "outputId": "50f6dcf5-ec09-475c-e3a1-f1ec0bc67d61"
   },
   "outputs": [
    {
     "data": {
      "text/plain": [
       "(21072, 2)"
      ]
     },
     "execution_count": 34,
     "metadata": {},
     "output_type": "execute_result"
    }
   ],
   "source": [
    "df_clean.shape"
   ]
  },
  {
   "cell_type": "code",
   "execution_count": 35,
   "metadata": {
    "colab": {
     "base_uri": "https://localhost:8080/"
    },
    "id": "JBWvGkIuysuH",
    "outputId": "ffb1bf85-5e2f-4c6d-bb3a-d24e37d955ad"
   },
   "outputs": [
    {
     "name": "stdout",
     "output_type": "stream",
     "text": [
      "Collecting swifter\n",
      "  Using cached swifter-1.4.0.tar.gz (1.2 MB)\n",
      "  Preparing metadata (setup.py) ... \u001b[?25ldone\n",
      "\u001b[?25hRequirement already satisfied: pandas>=1.0.0 in /opt/homebrew/lib/python3.11/site-packages (from swifter) (2.2.0)\n",
      "Requirement already satisfied: psutil>=5.6.6 in /opt/homebrew/lib/python3.11/site-packages (from swifter) (5.9.8)\n",
      "Collecting dask>=2.10.0 (from dask[dataframe]>=2.10.0->swifter)\n",
      "  Using cached dask-2024.10.0-py3-none-any.whl.metadata (3.7 kB)\n",
      "Requirement already satisfied: tqdm>=4.33.0 in /opt/homebrew/lib/python3.11/site-packages (from swifter) (4.66.2)\n",
      "Requirement already satisfied: click>=8.1 in /opt/homebrew/lib/python3.11/site-packages (from dask>=2.10.0->dask[dataframe]>=2.10.0->swifter) (8.1.7)\n",
      "Collecting cloudpickle>=3.0.0 (from dask>=2.10.0->dask[dataframe]>=2.10.0->swifter)\n",
      "  Using cached cloudpickle-3.1.0-py3-none-any.whl.metadata (7.0 kB)\n",
      "Requirement already satisfied: fsspec>=2021.09.0 in /opt/homebrew/lib/python3.11/site-packages (from dask>=2.10.0->dask[dataframe]>=2.10.0->swifter) (2023.10.0)\n",
      "Requirement already satisfied: packaging>=20.0 in /opt/homebrew/lib/python3.11/site-packages (from dask>=2.10.0->dask[dataframe]>=2.10.0->swifter) (23.2)\n",
      "Collecting partd>=1.4.0 (from dask>=2.10.0->dask[dataframe]>=2.10.0->swifter)\n",
      "  Using cached partd-1.4.2-py3-none-any.whl.metadata (4.6 kB)\n",
      "Requirement already satisfied: pyyaml>=5.3.1 in /opt/homebrew/lib/python3.11/site-packages (from dask>=2.10.0->dask[dataframe]>=2.10.0->swifter) (6.0.1)\n",
      "Collecting toolz>=0.10.0 (from dask>=2.10.0->dask[dataframe]>=2.10.0->swifter)\n",
      "  Using cached toolz-1.0.0-py3-none-any.whl.metadata (5.1 kB)\n",
      "Requirement already satisfied: importlib-metadata>=4.13.0 in /opt/homebrew/lib/python3.11/site-packages (from dask>=2.10.0->dask[dataframe]>=2.10.0->swifter) (7.0.0)\n",
      "Collecting dask-expr<1.2,>=1.1 (from dask[dataframe]>=2.10.0->swifter)\n",
      "  Using cached dask_expr-1.1.16-py3-none-any.whl.metadata (2.5 kB)\n",
      "Requirement already satisfied: numpy<2,>=1.23.2 in /opt/homebrew/lib/python3.11/site-packages (from pandas>=1.0.0->swifter) (1.26.4)\n",
      "Requirement already satisfied: python-dateutil>=2.8.2 in /opt/homebrew/lib/python3.11/site-packages (from pandas>=1.0.0->swifter) (2.9.0.post0)\n",
      "Requirement already satisfied: pytz>=2020.1 in /opt/homebrew/lib/python3.11/site-packages (from pandas>=1.0.0->swifter) (2024.1)\n",
      "Requirement already satisfied: tzdata>=2022.7 in /opt/homebrew/lib/python3.11/site-packages (from pandas>=1.0.0->swifter) (2024.1)\n",
      "Requirement already satisfied: pyarrow>=14.0.1 in /opt/homebrew/lib/python3.11/site-packages (from dask-expr<1.2,>=1.1->dask[dataframe]>=2.10.0->swifter) (14.0.2)\n",
      "Requirement already satisfied: zipp>=0.5 in /opt/homebrew/lib/python3.11/site-packages (from importlib-metadata>=4.13.0->dask>=2.10.0->dask[dataframe]>=2.10.0->swifter) (3.18.1)\n",
      "Collecting locket (from partd>=1.4.0->dask>=2.10.0->dask[dataframe]>=2.10.0->swifter)\n",
      "  Using cached locket-1.0.0-py2.py3-none-any.whl.metadata (2.8 kB)\n",
      "Requirement already satisfied: six>=1.5 in /opt/homebrew/lib/python3.11/site-packages (from python-dateutil>=2.8.2->pandas>=1.0.0->swifter) (1.16.0)\n",
      "Using cached dask-2024.10.0-py3-none-any.whl (1.3 MB)\n",
      "Using cached cloudpickle-3.1.0-py3-none-any.whl (22 kB)\n",
      "Using cached dask_expr-1.1.16-py3-none-any.whl (243 kB)\n",
      "Using cached partd-1.4.2-py3-none-any.whl (18 kB)\n",
      "Using cached toolz-1.0.0-py3-none-any.whl (56 kB)\n",
      "Using cached locket-1.0.0-py2.py3-none-any.whl (4.4 kB)\n",
      "Building wheels for collected packages: swifter\n",
      "  Building wheel for swifter (setup.py) ... \u001b[?25ldone\n",
      "\u001b[?25h  Created wheel for swifter: filename=swifter-1.4.0-py3-none-any.whl size=16506 sha256=1cb78143ed80cb48e1a38ecf7fb3b08c991163a70f6961938a9d664c097ab4f5\n",
      "  Stored in directory: /Users/vkrkscb/Library/Caches/pip/wheels/ef/7f/bd/9bed48f078f3ee1fa75e0b29b6e0335ce1cb03a38d3443b3a3\n",
      "Successfully built swifter\n",
      "Installing collected packages: toolz, locket, cloudpickle, partd, dask, dask-expr, swifter\n",
      "Successfully installed cloudpickle-3.1.0 dask-2024.10.0 dask-expr-1.1.16 locket-1.0.0 partd-1.4.2 swifter-1.4.0 toolz-1.0.0\n"
     ]
    }
   ],
   "source": [
    "!pip install swifter"
   ]
  },
  {
   "cell_type": "code",
   "execution_count": 36,
   "metadata": {
    "colab": {
     "base_uri": "https://localhost:8080/",
     "height": 49,
     "referenced_widgets": [
      "bd8f11e6c35f448f9dd3237462325bd6",
      "4d57e20a9ba54aec8097fc96fdf64cfb",
      "08536ef3e4ab40afa4b91f325b896a49",
      "53e46d93cf16499c86149c2dcba7dabf",
      "ff4785184ebb4df18fc9c3764a49b483",
      "8ab889ca0e584dd38d6532750c8c4ec8",
      "fdba4911aeda4c71b54cd97a02adb082",
      "0f4da2dbd7b34631afac4bfa9bad46cc",
      "3e992ab8acbe4661be2f98eef9a57c46",
      "6a7c5dd3420143eb803152c8f16952d3",
      "a012ba6a0b504ede9b9014defa2e0dab"
     ]
    },
    "id": "Kk7fc4DuJrF1",
    "outputId": "14a252c1-ee84-4bda-fc69-0253732c7889"
   },
   "outputs": [
    {
     "data": {
      "application/vnd.jupyter.widget-view+json": {
       "model_id": "1b4005e2ed274083a7b714e11b902915",
       "version_major": 2,
       "version_minor": 0
      },
      "text/plain": [
       "Pandas Apply:   0%|          | 0/21072 [00:00<?, ?it/s]"
      ]
     },
     "metadata": {},
     "output_type": "display_data"
    }
   ],
   "source": [
    "#Write your function to extract the POS tags\n",
    "import swifter\n",
    "\n",
    "def pos_tag(text):\n",
    "  nn_words = []\n",
    "  doc = nlp(text)\n",
    "  for tok in doc:\n",
    "      if(tok.tag_ == 'NN'):\n",
    "          nn_words.append(tok.lemma_)\n",
    "  nn_words_str = \" \".join(nn_words)\n",
    "  return nn_words_str\n",
    "\n",
    "\n",
    "df_clean['complaint_POS_removed'] = df_clean['lemmatized'].swifter.apply(pos_tag) # used swifter to enhance the performance\n",
    " #this column should contain lemmatized text with all the words removed which have tags other than NN[tag == \"NN\"].\n"
   ]
  },
  {
   "cell_type": "code",
   "execution_count": 37,
   "metadata": {
    "colab": {
     "base_uri": "https://localhost:8080/"
    },
    "id": "156ozaqbzcQZ",
    "outputId": "c8494d2e-f2e6-42b3-ca0b-545bafcb741c"
   },
   "outputs": [
    {
     "data": {
      "text/plain": [
       "(21072, 3)"
      ]
     },
     "execution_count": 37,
     "metadata": {},
     "output_type": "execute_result"
    }
   ],
   "source": [
    "df_clean.shape"
   ]
  },
  {
   "cell_type": "code",
   "execution_count": 38,
   "metadata": {
    "colab": {
     "base_uri": "https://localhost:8080/",
     "height": 458
    },
    "id": "kXmZYJEgrAaz",
    "outputId": "8c01b528-b60e-47f4-eac3-f09159712c63"
   },
   "outputs": [
    {
     "data": {
      "text/plain": [
       "1        morning help bank service write chase debt ver...\n",
       "2        card agent upgrade anniversary date change age...\n",
       "10       chase card report application submit identity ...\n",
       "11       book offer ticket reward card information minu...\n",
       "14       son deposit chase account fund bank account pa...\n",
       "                               ...                        \n",
       "78303    chase card customer decade solicitation credit...\n",
       "78309    credit card provider ask claim purchase protec...\n",
       "78310    xxxx risk consumer year trust mobile banking t...\n",
       "78311    credit yrs credit card chase freedom problem t...\n",
       "78312    year account order line credit account payment...\n",
       "Name: complaint_POS_removed, Length: 21072, dtype: object"
      ]
     },
     "execution_count": 38,
     "metadata": {},
     "output_type": "execute_result"
    }
   ],
   "source": [
    "df_clean['complaint_POS_removed']"
   ]
  },
  {
   "cell_type": "code",
   "execution_count": 39,
   "metadata": {
    "colab": {
     "base_uri": "https://localhost:8080/"
    },
    "id": "ObTzQaVDrk2k",
    "outputId": "fa239656-74de-4c67-d482-301781fab41f"
   },
   "outputs": [
    {
     "data": {
      "text/plain": [
       "(21072, 3)"
      ]
     },
     "execution_count": 39,
     "metadata": {},
     "output_type": "execute_result"
    }
   ],
   "source": [
    "df_clean.shape"
   ]
  },
  {
   "cell_type": "code",
   "execution_count": 40,
   "metadata": {
    "colab": {
     "base_uri": "https://localhost:8080/",
     "height": 206
    },
    "id": "EsL-EAuqJ9bj",
    "outputId": "63ef689b-4db0-48f3-9adf-85d214b15505"
   },
   "outputs": [
    {
     "data": {
      "text/html": [
       "<div>\n",
       "<style scoped>\n",
       "    .dataframe tbody tr th:only-of-type {\n",
       "        vertical-align: middle;\n",
       "    }\n",
       "\n",
       "    .dataframe tbody tr th {\n",
       "        vertical-align: top;\n",
       "    }\n",
       "\n",
       "    .dataframe thead th {\n",
       "        text-align: right;\n",
       "    }\n",
       "</style>\n",
       "<table border=\"1\" class=\"dataframe\">\n",
       "  <thead>\n",
       "    <tr style=\"text-align: right;\">\n",
       "      <th></th>\n",
       "      <th>complaints</th>\n",
       "      <th>lemmatized</th>\n",
       "      <th>complaint_POS_removed</th>\n",
       "    </tr>\n",
       "  </thead>\n",
       "  <tbody>\n",
       "    <tr>\n",
       "      <th>1</th>\n",
       "      <td>good morning my name is xxxx xxxx and i apprec...</td>\n",
       "      <td>good morning xxxx xxxx appreciate help stop ch...</td>\n",
       "      <td>morning help bank service write chase debt ver...</td>\n",
       "    </tr>\n",
       "    <tr>\n",
       "      <th>2</th>\n",
       "      <td>i upgraded my xxxx xxxx card in xx xx and was ...</td>\n",
       "      <td>upgrade xxxx xxxx card xx xx tell agent upgrad...</td>\n",
       "      <td>card agent upgrade anniversary date change age...</td>\n",
       "    </tr>\n",
       "    <tr>\n",
       "      <th>10</th>\n",
       "      <td>chase card was reported on xx xx however fraud...</td>\n",
       "      <td>chase card report xx xx fraudulent application...</td>\n",
       "      <td>chase card report application submit identity ...</td>\n",
       "    </tr>\n",
       "    <tr>\n",
       "      <th>11</th>\n",
       "      <td>on xx xx while trying to book a xxxx xxxx tick...</td>\n",
       "      <td>xx xx try book xxxx xxxx ticket come offer app...</td>\n",
       "      <td>book offer ticket reward card information minu...</td>\n",
       "    </tr>\n",
       "    <tr>\n",
       "      <th>14</th>\n",
       "      <td>my grand son give me check for i deposit it in...</td>\n",
       "      <td>grand son check deposit chase account fund cle...</td>\n",
       "      <td>son deposit chase account fund bank account pa...</td>\n",
       "    </tr>\n",
       "  </tbody>\n",
       "</table>\n",
       "</div>"
      ],
      "text/plain": [
       "                                           complaints  \\\n",
       "1   good morning my name is xxxx xxxx and i apprec...   \n",
       "2   i upgraded my xxxx xxxx card in xx xx and was ...   \n",
       "10  chase card was reported on xx xx however fraud...   \n",
       "11  on xx xx while trying to book a xxxx xxxx tick...   \n",
       "14  my grand son give me check for i deposit it in...   \n",
       "\n",
       "                                           lemmatized  \\\n",
       "1   good morning xxxx xxxx appreciate help stop ch...   \n",
       "2   upgrade xxxx xxxx card xx xx tell agent upgrad...   \n",
       "10  chase card report xx xx fraudulent application...   \n",
       "11  xx xx try book xxxx xxxx ticket come offer app...   \n",
       "14  grand son check deposit chase account fund cle...   \n",
       "\n",
       "                                complaint_POS_removed  \n",
       "1   morning help bank service write chase debt ver...  \n",
       "2   card agent upgrade anniversary date change age...  \n",
       "10  chase card report application submit identity ...  \n",
       "11  book offer ticket reward card information minu...  \n",
       "14  son deposit chase account fund bank account pa...  "
      ]
     },
     "execution_count": 40,
     "metadata": {},
     "output_type": "execute_result"
    }
   ],
   "source": [
    "df_clean.head()"
   ]
  },
  {
   "cell_type": "code",
   "execution_count": 41,
   "metadata": {
    "id": "AjxfchvFJrF2"
   },
   "outputs": [],
   "source": [
    "#The clean dataframe should now contain the raw complaint, lemmatized complaint and the complaint after removing POS tags.\n"
   ]
  },
  {
   "cell_type": "code",
   "execution_count": 42,
   "metadata": {
    "colab": {
     "base_uri": "https://localhost:8080/",
     "height": 423
    },
    "id": "nFDLsrI2pKjW",
    "outputId": "34003312-8bab-4c8d-e98a-a4440c3a01c0"
   },
   "outputs": [
    {
     "data": {
      "text/html": [
       "<div>\n",
       "<style scoped>\n",
       "    .dataframe tbody tr th:only-of-type {\n",
       "        vertical-align: middle;\n",
       "    }\n",
       "\n",
       "    .dataframe tbody tr th {\n",
       "        vertical-align: top;\n",
       "    }\n",
       "\n",
       "    .dataframe thead th {\n",
       "        text-align: right;\n",
       "    }\n",
       "</style>\n",
       "<table border=\"1\" class=\"dataframe\">\n",
       "  <thead>\n",
       "    <tr style=\"text-align: right;\">\n",
       "      <th></th>\n",
       "      <th>complaints</th>\n",
       "      <th>lemmatized</th>\n",
       "      <th>complaint_POS_removed</th>\n",
       "    </tr>\n",
       "  </thead>\n",
       "  <tbody>\n",
       "    <tr>\n",
       "      <th>1</th>\n",
       "      <td>good morning my name is xxxx xxxx and i apprec...</td>\n",
       "      <td>good morning xxxx xxxx appreciate help stop ch...</td>\n",
       "      <td>morning help bank service write chase debt ver...</td>\n",
       "    </tr>\n",
       "    <tr>\n",
       "      <th>2</th>\n",
       "      <td>i upgraded my xxxx xxxx card in xx xx and was ...</td>\n",
       "      <td>upgrade xxxx xxxx card xx xx tell agent upgrad...</td>\n",
       "      <td>card agent upgrade anniversary date change age...</td>\n",
       "    </tr>\n",
       "    <tr>\n",
       "      <th>10</th>\n",
       "      <td>chase card was reported on xx xx however fraud...</td>\n",
       "      <td>chase card report xx xx fraudulent application...</td>\n",
       "      <td>chase card report application submit identity ...</td>\n",
       "    </tr>\n",
       "    <tr>\n",
       "      <th>11</th>\n",
       "      <td>on xx xx while trying to book a xxxx xxxx tick...</td>\n",
       "      <td>xx xx try book xxxx xxxx ticket come offer app...</td>\n",
       "      <td>book offer ticket reward card information minu...</td>\n",
       "    </tr>\n",
       "    <tr>\n",
       "      <th>14</th>\n",
       "      <td>my grand son give me check for i deposit it in...</td>\n",
       "      <td>grand son check deposit chase account fund cle...</td>\n",
       "      <td>son deposit chase account fund bank account pa...</td>\n",
       "    </tr>\n",
       "    <tr>\n",
       "      <th>...</th>\n",
       "      <td>...</td>\n",
       "      <td>...</td>\n",
       "      <td>...</td>\n",
       "    </tr>\n",
       "    <tr>\n",
       "      <th>78303</th>\n",
       "      <td>after being a chase card customer for well ove...</td>\n",
       "      <td>chase card customer decade offer multiple soli...</td>\n",
       "      <td>chase card customer decade solicitation credit...</td>\n",
       "    </tr>\n",
       "    <tr>\n",
       "      <th>78309</th>\n",
       "      <td>on wednesday xx xx xxxx i called chas my xxxx ...</td>\n",
       "      <td>wednesday xx xx xxxx call chas xxxx xxxx visa ...</td>\n",
       "      <td>credit card provider ask claim purchase protec...</td>\n",
       "    </tr>\n",
       "    <tr>\n",
       "      <th>78310</th>\n",
       "      <td>i am not familiar with xxxx pay and did not un...</td>\n",
       "      <td>familiar xxxx pay understand great risk provid...</td>\n",
       "      <td>xxxx risk consumer year trust mobile banking t...</td>\n",
       "    </tr>\n",
       "    <tr>\n",
       "      <th>78311</th>\n",
       "      <td>i have had flawless credit for yrs i ve had ch...</td>\n",
       "      <td>flawless credit yrs ve chase credit card chase...</td>\n",
       "      <td>credit yrs credit card chase freedom problem t...</td>\n",
       "    </tr>\n",
       "    <tr>\n",
       "      <th>78312</th>\n",
       "      <td>roughly years ago i closed out my accounts wit...</td>\n",
       "      <td>roughly year ago close account jp morgan chase...</td>\n",
       "      <td>year account order line credit account payment...</td>\n",
       "    </tr>\n",
       "  </tbody>\n",
       "</table>\n",
       "<p>21072 rows × 3 columns</p>\n",
       "</div>"
      ],
      "text/plain": [
       "                                              complaints  \\\n",
       "1      good morning my name is xxxx xxxx and i apprec...   \n",
       "2      i upgraded my xxxx xxxx card in xx xx and was ...   \n",
       "10     chase card was reported on xx xx however fraud...   \n",
       "11     on xx xx while trying to book a xxxx xxxx tick...   \n",
       "14     my grand son give me check for i deposit it in...   \n",
       "...                                                  ...   \n",
       "78303  after being a chase card customer for well ove...   \n",
       "78309  on wednesday xx xx xxxx i called chas my xxxx ...   \n",
       "78310  i am not familiar with xxxx pay and did not un...   \n",
       "78311  i have had flawless credit for yrs i ve had ch...   \n",
       "78312  roughly years ago i closed out my accounts wit...   \n",
       "\n",
       "                                              lemmatized  \\\n",
       "1      good morning xxxx xxxx appreciate help stop ch...   \n",
       "2      upgrade xxxx xxxx card xx xx tell agent upgrad...   \n",
       "10     chase card report xx xx fraudulent application...   \n",
       "11     xx xx try book xxxx xxxx ticket come offer app...   \n",
       "14     grand son check deposit chase account fund cle...   \n",
       "...                                                  ...   \n",
       "78303  chase card customer decade offer multiple soli...   \n",
       "78309  wednesday xx xx xxxx call chas xxxx xxxx visa ...   \n",
       "78310  familiar xxxx pay understand great risk provid...   \n",
       "78311  flawless credit yrs ve chase credit card chase...   \n",
       "78312  roughly year ago close account jp morgan chase...   \n",
       "\n",
       "                                   complaint_POS_removed  \n",
       "1      morning help bank service write chase debt ver...  \n",
       "2      card agent upgrade anniversary date change age...  \n",
       "10     chase card report application submit identity ...  \n",
       "11     book offer ticket reward card information minu...  \n",
       "14     son deposit chase account fund bank account pa...  \n",
       "...                                                  ...  \n",
       "78303  chase card customer decade solicitation credit...  \n",
       "78309  credit card provider ask claim purchase protec...  \n",
       "78310  xxxx risk consumer year trust mobile banking t...  \n",
       "78311  credit yrs credit card chase freedom problem t...  \n",
       "78312  year account order line credit account payment...  \n",
       "\n",
       "[21072 rows x 3 columns]"
      ]
     },
     "execution_count": 42,
     "metadata": {},
     "output_type": "execute_result"
    }
   ],
   "source": [
    "filtered_df = df_clean[df_clean['complaint_POS_removed'].notna()]\n",
    "\n",
    "filtered_df"
   ]
  },
  {
   "cell_type": "code",
   "execution_count": null,
   "metadata": {
    "id": "_aOmjCVSqkSp"
   },
   "outputs": [],
   "source": []
  },
  {
   "cell_type": "markdown",
   "metadata": {
    "id": "_7Un1AElJrF2"
   },
   "source": [
    "## Exploratory data analysis to get familiar with the data.\n",
    "\n",
    "Write the code in this task to perform the following:\n",
    "\n",
    "*   Visualise the data according to the 'Complaint' character length\n",
    "*   Using a word cloud find the top 40 words by frequency among all the articles after processing the text\n",
    "*   Find the top unigrams,bigrams and trigrams by frequency among all the complaints after processing the text. ‘\n",
    "\n",
    "\n"
   ]
  },
  {
   "cell_type": "code",
   "execution_count": 43,
   "metadata": {
    "colab": {
     "base_uri": "https://localhost:8080/",
     "height": 564
    },
    "id": "q-zaqJF6JrF2",
    "outputId": "8ed607b1-a957-4e12-c3c8-c199429c4692"
   },
   "outputs": [
    {
     "data": {
      "image/png": "[encoded data removed]",
      "text/plain": [
       "<Figure size 1000x600 with 1 Axes>"
      ]
     },
     "metadata": {},
     "output_type": "display_data"
    }
   ],
   "source": [
    "# Write your code here to visualise the data according to the 'Complaint' character length\n",
    "plt.figure(figsize=(10, 6))\n",
    "plt.hist(df_clean['complaint_POS_removed'].str.len(), bins=30, color='skyblue', edgecolor='black')\n",
    "plt.xlabel('Complaint Length (Characters)')\n",
    "plt.ylabel('Frequency')\n",
    "plt.title('Distribution of Complaint Length')\n",
    "plt.grid(True)\n",
    "plt.show()"
   ]
  },
  {
   "cell_type": "code",
   "execution_count": 44,
   "metadata": {
    "colab": {
     "base_uri": "https://localhost:8080/",
     "height": 458
    },
    "id": "olqxU-u1zcQb",
    "outputId": "ad515e31-f6f2-4ec6-8bd4-998d97902466"
   },
   "outputs": [
    {
     "data": {
      "text/plain": [
       "1        morning help bank service write chase debt ver...\n",
       "2        card agent upgrade anniversary date change age...\n",
       "10       chase card report application submit identity ...\n",
       "11       book offer ticket reward card information minu...\n",
       "14       son deposit chase account fund bank account pa...\n",
       "                               ...                        \n",
       "78303    chase card customer decade solicitation credit...\n",
       "78309    credit card provider ask claim purchase protec...\n",
       "78310    xxxx risk consumer year trust mobile banking t...\n",
       "78311    credit yrs credit card chase freedom problem t...\n",
       "78312    year account order line credit account payment...\n",
       "Name: complaint_POS_removed, Length: 21072, dtype: object"
      ]
     },
     "execution_count": 44,
     "metadata": {},
     "output_type": "execute_result"
    }
   ],
   "source": [
    "df_clean['complaint_POS_removed']"
   ]
  },
  {
   "cell_type": "markdown",
   "metadata": {
    "id": "T9jD_6SeJrF3"
   },
   "source": [
    "#### Find the top 40 words by frequency among all the articles after processing the text."
   ]
  },
  {
   "cell_type": "code",
   "execution_count": 45,
   "metadata": {
    "colab": {
     "base_uri": "https://localhost:8080/",
     "height": 406
    },
    "id": "QcfdvtfZJrF3",
    "outputId": "36b740af-fbc2-4ba0-8e92-996803dd379a"
   },
   "outputs": [
    {
     "data": {
      "image/png": "[encoded data removed]",
      "text/plain": [
       "<Figure size 640x480 with 1 Axes>"
      ]
     },
     "metadata": {},
     "output_type": "display_data"
    }
   ],
   "source": [
    "from wordcloud import WordCloud\n",
    "wordcloud=WordCloud(stopwords=spacy.lang.en.stop_words.STOP_WORDS, background_color='white', width=2000, height=1500,max_words=40).generate(' '.join(df_clean['complaint_POS_removed']))\n",
    "plt.imshow(wordcloud, interpolation='bilinear', aspect='auto')\n",
    "plt.axis(\"off\")\n",
    "plt.show()"
   ]
  },
  {
   "cell_type": "code",
   "execution_count": 46,
   "metadata": {
    "id": "OkSmc3UaJrF4"
   },
   "outputs": [],
   "source": [
    "#Removing -PRON- from the text corpus\n",
    "df_clean['Complaint_clean'] = df_clean['complaint_POS_removed'].str.replace('-PRON-', '')"
   ]
  },
  {
   "cell_type": "code",
   "execution_count": 47,
   "metadata": {
    "colab": {
     "base_uri": "https://localhost:8080/"
    },
    "id": "6jmrVFlRzcQc",
    "outputId": "b7ece64a-ffb9-4c19-eba0-1f5b06596eb3"
   },
   "outputs": [
    {
     "data": {
      "text/plain": [
       "(21072, 4)"
      ]
     },
     "execution_count": 47,
     "metadata": {},
     "output_type": "execute_result"
    }
   ],
   "source": [
    "df_clean.shape"
   ]
  },
  {
   "cell_type": "markdown",
   "metadata": {
    "id": "5DfCSbbmJrF4"
   },
   "source": [
    "#### Find the top unigrams,bigrams and trigrams by frequency among all the complaints after processing the text."
   ]
  },
  {
   "cell_type": "code",
   "execution_count": 48,
   "metadata": {
    "id": "fYKy_nKUzcQd"
   },
   "outputs": [],
   "source": [
    "def get_top_ngram_words(corpus, n=None,count=None):\n",
    "    vec = CountVectorizer(ngram_range=(n, n)).fit(corpus)\n",
    "    bag_of_words = vec.transform(corpus)\n",
    "    sum_words = bag_of_words.sum(axis=0)\n",
    "    words_freq = [(word, sum_words[0, idx]) for word, idx in vec.vocabulary_.items()]\n",
    "    words_freq =sorted(words_freq, key = lambda x: x[1], reverse=True)\n",
    "    return words_freq[:count]"
   ]
  },
  {
   "cell_type": "code",
   "execution_count": 49,
   "metadata": {
    "id": "5mbk5DS5JrF4"
   },
   "outputs": [],
   "source": [
    "#Write your code here to find the top 30 unigram frequency among the complaints in the cleaned datafram(df_clean).\n",
    "unigram = get_top_ngram_words(df_clean['Complaint_clean'], 1,30)\n"
   ]
  },
  {
   "cell_type": "code",
   "execution_count": 50,
   "metadata": {
    "colab": {
     "base_uri": "https://localhost:8080/"
    },
    "id": "YX7fedm1JrF8",
    "outputId": "54d88566-3321-401a-d2ba-961b4710f178"
   },
   "outputs": [
    {
     "name": "stdout",
     "output_type": "stream",
     "text": [
      "chase 51987\n",
      "account 40169\n",
      "credit 33623\n",
      "card 29780\n",
      "xxxx 29651\n",
      "payment 21282\n",
      "time 16147\n",
      "bank 15952\n",
      "charge 15214\n",
      "day 13110\n"
     ]
    }
   ],
   "source": [
    "#Print the top 10 words in the unigram frequency\n",
    "for word, freq in unigram[:10]:\n",
    "        print(word, freq)\n"
   ]
  },
  {
   "cell_type": "code",
   "execution_count": 52,
   "metadata": {
    "id": "aV7kD7w8JrF8"
   },
   "outputs": [],
   "source": [
    "#Write your code here to find the top 30 bigram frequency among the complaints in the cleaned datafram(df_clean).\n",
    "bigram = get_top_ngram_words(df_clean['Complaint_clean'], 2,30)\n"
   ]
  },
  {
   "cell_type": "code",
   "execution_count": 53,
   "metadata": {
    "colab": {
     "base_uri": "https://localhost:8080/"
    },
    "id": "NPnMNIpyJrF9",
    "outputId": "79701d4f-c151-46dc-8f4b-49f9bad92fc3"
   },
   "outputs": [
    {
     "name": "stdout",
     "output_type": "stream",
     "text": [
      "credit card 12821\n",
      "credit report 3858\n",
      "chase credit 3040\n",
      "customer service 2919\n",
      "call chase 2573\n",
      "xxxx xxxx 2173\n",
      "account chase 2144\n",
      "check account 2039\n",
      "chase bank 1968\n",
      "chase account 1926\n"
     ]
    }
   ],
   "source": [
    "#Print the top 10 words in the bigram frequency\n",
    "for word, freq in bigram[:10]:\n",
    "        print(word, freq)"
   ]
  },
  {
   "cell_type": "code",
   "execution_count": 55,
   "metadata": {
    "id": "Xkh7vtbtJrF-"
   },
   "outputs": [],
   "source": [
    "#Write your code here to find the top 30 trigram frequency among the complaints in the cleaned datafram(df_clean).\n",
    "trigram = get_top_ngram_words(df_clean['Complaint_clean'], 3,30)\n"
   ]
  },
  {
   "cell_type": "code",
   "execution_count": 56,
   "metadata": {
    "colab": {
     "base_uri": "https://localhost:8080/"
    },
    "id": "REcVxNfvJrF-",
    "outputId": "398b6e48-d4f2-485b-be7a-1603edca1eb7"
   },
   "outputs": [
    {
     "name": "stdout",
     "output_type": "stream",
     "text": [
      "chase credit card 2193\n",
      "credit card account 1042\n",
      "credit card company 969\n",
      "credit card chase 726\n",
      "xxxx credit card 682\n",
      "xxxx xxxx xxxx 662\n",
      "chase customer service 547\n",
      "inquiry credit report 471\n",
      "credit card credit 434\n",
      "credit card xxxx 410\n"
     ]
    }
   ],
   "source": [
    "#Print the top 10 words in the trigram frequency\n",
    "for word, freq in trigram[:10]:\n",
    "        print(word, freq)"
   ]
  },
  {
   "cell_type": "markdown",
   "metadata": {
    "id": "yUXzFji0JrF_"
   },
   "source": [
    "## The personal details of customer has been masked in the dataset with xxxx. Let's remove the masked text as this will be of no use for our analysis"
   ]
  },
  {
   "cell_type": "code",
   "execution_count": 58,
   "metadata": {
    "id": "wKda-a_IJrF_"
   },
   "outputs": [],
   "source": [
    "df_clean['Complaint_clean'] = df_clean['Complaint_clean'].str.replace('xxxx','')"
   ]
  },
  {
   "cell_type": "code",
   "execution_count": 59,
   "metadata": {
    "colab": {
     "base_uri": "https://localhost:8080/",
     "height": 475
    },
    "id": "9UIFk8fQJrF_",
    "outputId": "4b56d150-52c1-4ee7-8123-272bb954d5fa"
   },
   "outputs": [
    {
     "data": {
      "text/html": [
       "<div>\n",
       "<style scoped>\n",
       "    .dataframe tbody tr th:only-of-type {\n",
       "        vertical-align: middle;\n",
       "    }\n",
       "\n",
       "    .dataframe tbody tr th {\n",
       "        vertical-align: top;\n",
       "    }\n",
       "\n",
       "    .dataframe thead th {\n",
       "        text-align: right;\n",
       "    }\n",
       "</style>\n",
       "<table border=\"1\" class=\"dataframe\">\n",
       "  <thead>\n",
       "    <tr style=\"text-align: right;\">\n",
       "      <th></th>\n",
       "      <th>complaints</th>\n",
       "      <th>lemmatized</th>\n",
       "      <th>complaint_POS_removed</th>\n",
       "      <th>Complaint_clean</th>\n",
       "    </tr>\n",
       "  </thead>\n",
       "  <tbody>\n",
       "    <tr>\n",
       "      <th>1</th>\n",
       "      <td>good morning my name is xxxx xxxx and i apprec...</td>\n",
       "      <td>good morning xxxx xxxx appreciate help stop ch...</td>\n",
       "      <td>morning help bank service write chase debt ver...</td>\n",
       "      <td>morning help bank service write chase debt ver...</td>\n",
       "    </tr>\n",
       "    <tr>\n",
       "      <th>2</th>\n",
       "      <td>i upgraded my xxxx xxxx card in xx xx and was ...</td>\n",
       "      <td>upgrade xxxx xxxx card xx xx tell agent upgrad...</td>\n",
       "      <td>card agent upgrade anniversary date change age...</td>\n",
       "      <td>card agent upgrade anniversary date change age...</td>\n",
       "    </tr>\n",
       "    <tr>\n",
       "      <th>10</th>\n",
       "      <td>chase card was reported on xx xx however fraud...</td>\n",
       "      <td>chase card report xx xx fraudulent application...</td>\n",
       "      <td>chase card report application submit identity ...</td>\n",
       "      <td>chase card report application submit identity ...</td>\n",
       "    </tr>\n",
       "    <tr>\n",
       "      <th>11</th>\n",
       "      <td>on xx xx while trying to book a xxxx xxxx tick...</td>\n",
       "      <td>xx xx try book xxxx xxxx ticket come offer app...</td>\n",
       "      <td>book offer ticket reward card information minu...</td>\n",
       "      <td>book offer ticket reward card information minu...</td>\n",
       "    </tr>\n",
       "    <tr>\n",
       "      <th>14</th>\n",
       "      <td>my grand son give me check for i deposit it in...</td>\n",
       "      <td>grand son check deposit chase account fund cle...</td>\n",
       "      <td>son deposit chase account fund bank account pa...</td>\n",
       "      <td>son deposit chase account fund bank account pa...</td>\n",
       "    </tr>\n",
       "    <tr>\n",
       "      <th>...</th>\n",
       "      <td>...</td>\n",
       "      <td>...</td>\n",
       "      <td>...</td>\n",
       "      <td>...</td>\n",
       "    </tr>\n",
       "    <tr>\n",
       "      <th>78303</th>\n",
       "      <td>after being a chase card customer for well ove...</td>\n",
       "      <td>chase card customer decade offer multiple soli...</td>\n",
       "      <td>chase card customer decade solicitation credit...</td>\n",
       "      <td>chase card customer decade solicitation credit...</td>\n",
       "    </tr>\n",
       "    <tr>\n",
       "      <th>78309</th>\n",
       "      <td>on wednesday xx xx xxxx i called chas my xxxx ...</td>\n",
       "      <td>wednesday xx xx xxxx call chas xxxx xxxx visa ...</td>\n",
       "      <td>credit card provider ask claim purchase protec...</td>\n",
       "      <td>credit card provider ask claim purchase protec...</td>\n",
       "    </tr>\n",
       "    <tr>\n",
       "      <th>78310</th>\n",
       "      <td>i am not familiar with xxxx pay and did not un...</td>\n",
       "      <td>familiar xxxx pay understand great risk provid...</td>\n",
       "      <td>xxxx risk consumer year trust mobile banking t...</td>\n",
       "      <td>risk consumer year trust mobile banking tell ...</td>\n",
       "    </tr>\n",
       "    <tr>\n",
       "      <th>78311</th>\n",
       "      <td>i have had flawless credit for yrs i ve had ch...</td>\n",
       "      <td>flawless credit yrs ve chase credit card chase...</td>\n",
       "      <td>credit yrs credit card chase freedom problem t...</td>\n",
       "      <td>credit yrs credit card chase freedom problem t...</td>\n",
       "    </tr>\n",
       "    <tr>\n",
       "      <th>78312</th>\n",
       "      <td>roughly years ago i closed out my accounts wit...</td>\n",
       "      <td>roughly year ago close account jp morgan chase...</td>\n",
       "      <td>year account order line credit account payment...</td>\n",
       "      <td>year account order line credit account payment...</td>\n",
       "    </tr>\n",
       "  </tbody>\n",
       "</table>\n",
       "<p>21072 rows × 4 columns</p>\n",
       "</div>"
      ],
      "text/plain": [
       "                                              complaints  \\\n",
       "1      good morning my name is xxxx xxxx and i apprec...   \n",
       "2      i upgraded my xxxx xxxx card in xx xx and was ...   \n",
       "10     chase card was reported on xx xx however fraud...   \n",
       "11     on xx xx while trying to book a xxxx xxxx tick...   \n",
       "14     my grand son give me check for i deposit it in...   \n",
       "...                                                  ...   \n",
       "78303  after being a chase card customer for well ove...   \n",
       "78309  on wednesday xx xx xxxx i called chas my xxxx ...   \n",
       "78310  i am not familiar with xxxx pay and did not un...   \n",
       "78311  i have had flawless credit for yrs i ve had ch...   \n",
       "78312  roughly years ago i closed out my accounts wit...   \n",
       "\n",
       "                                              lemmatized  \\\n",
       "1      good morning xxxx xxxx appreciate help stop ch...   \n",
       "2      upgrade xxxx xxxx card xx xx tell agent upgrad...   \n",
       "10     chase card report xx xx fraudulent application...   \n",
       "11     xx xx try book xxxx xxxx ticket come offer app...   \n",
       "14     grand son check deposit chase account fund cle...   \n",
       "...                                                  ...   \n",
       "78303  chase card customer decade offer multiple soli...   \n",
       "78309  wednesday xx xx xxxx call chas xxxx xxxx visa ...   \n",
       "78310  familiar xxxx pay understand great risk provid...   \n",
       "78311  flawless credit yrs ve chase credit card chase...   \n",
       "78312  roughly year ago close account jp morgan chase...   \n",
       "\n",
       "                                   complaint_POS_removed  \\\n",
       "1      morning help bank service write chase debt ver...   \n",
       "2      card agent upgrade anniversary date change age...   \n",
       "10     chase card report application submit identity ...   \n",
       "11     book offer ticket reward card information minu...   \n",
       "14     son deposit chase account fund bank account pa...   \n",
       "...                                                  ...   \n",
       "78303  chase card customer decade solicitation credit...   \n",
       "78309  credit card provider ask claim purchase protec...   \n",
       "78310  xxxx risk consumer year trust mobile banking t...   \n",
       "78311  credit yrs credit card chase freedom problem t...   \n",
       "78312  year account order line credit account payment...   \n",
       "\n",
       "                                         Complaint_clean  \n",
       "1      morning help bank service write chase debt ver...  \n",
       "2      card agent upgrade anniversary date change age...  \n",
       "10     chase card report application submit identity ...  \n",
       "11     book offer ticket reward card information minu...  \n",
       "14     son deposit chase account fund bank account pa...  \n",
       "...                                                  ...  \n",
       "78303  chase card customer decade solicitation credit...  \n",
       "78309  credit card provider ask claim purchase protec...  \n",
       "78310   risk consumer year trust mobile banking tell ...  \n",
       "78311  credit yrs credit card chase freedom problem t...  \n",
       "78312  year account order line credit account payment...  \n",
       "\n",
       "[21072 rows x 4 columns]"
      ]
     },
     "execution_count": 59,
     "metadata": {},
     "output_type": "execute_result"
    }
   ],
   "source": [
    "#All masked texts has been removed\n",
    "df_clean"
   ]
  },
  {
   "cell_type": "code",
   "execution_count": 60,
   "metadata": {
    "colab": {
     "base_uri": "https://localhost:8080/"
    },
    "id": "V_LUWCJxzcQg",
    "outputId": "0ee074dd-804b-4078-9bf0-d8d9775f1402"
   },
   "outputs": [
    {
     "data": {
      "text/plain": [
       "(21072, 4)"
      ]
     },
     "execution_count": 60,
     "metadata": {},
     "output_type": "execute_result"
    }
   ],
   "source": [
    "df_clean.shape"
   ]
  },
  {
   "cell_type": "markdown",
   "metadata": {
    "id": "k-I0k0QtJrGA"
   },
   "source": [
    "## Feature Extraction\n",
    "Convert the raw texts to a matrix of TF-IDF features\n",
    "\n",
    "**max_df** is used for removing terms that appear too frequently, also known as \"corpus-specific stop words\"\n",
    "max_df = 0.95 means \"ignore terms that appear in more than 95% of the complaints\"\n",
    "\n",
    "**min_df** is used for removing terms that appear too infrequently\n",
    "min_df = 2 means \"ignore terms that appear in less than 2 complaints\""
   ]
  },
  {
   "cell_type": "code",
   "execution_count": 61,
   "metadata": {
    "id": "Y8fGwaCPJrGA"
   },
   "outputs": [],
   "source": [
    "#Write your code here to initialise the TfidfVectorizer\n",
    "\n",
    "from sklearn.feature_extraction.text import TfidfVectorizer\n",
    "\n",
    "# Initialize the TfidfVectorizer with max_df and min_df parameters\n",
    "tfidf_vectorizer = TfidfVectorizer(max_df=0.95, min_df=2)\n",
    "\n"
   ]
  },
  {
   "cell_type": "markdown",
   "metadata": {
    "id": "yYzD85nTJrGA"
   },
   "source": [
    "#### Create a document term matrix using fit_transform\n",
    "\n",
    "The contents of a document term matrix are tuples of (complaint_id,token_id) tf-idf score:\n",
    "The tuples that are not there have a tf-idf score of 0"
   ]
  },
  {
   "cell_type": "code",
   "execution_count": 62,
   "metadata": {
    "id": "ffzdDpp_JrGB"
   },
   "outputs": [],
   "source": [
    "#Write your code here to create the Document Term Matrix by transforming the complaints column present in df_clean.\n",
    "\n",
    "# Fit and transform the raw texts to TF-IDF features\n",
    "tfidf = tfidf_vectorizer.fit_transform(df_clean['Complaint_clean'])\n",
    "\n",
    "# Now tfidf_matrix contains the TF-IDF features of the texts"
   ]
  },
  {
   "cell_type": "code",
   "execution_count": 63,
   "metadata": {
    "colab": {
     "base_uri": "https://localhost:8080/"
    },
    "id": "VvTEi7VAzcQh",
    "outputId": "bb86760f-a912-439d-ca9f-86afb93dfa38"
   },
   "outputs": [
    {
     "name": "stdout",
     "output_type": "stream",
     "text": [
      "(21072, 6107)\n"
     ]
    }
   ],
   "source": [
    "print(tfidf.shape)"
   ]
  },
  {
   "cell_type": "markdown",
   "metadata": {
    "id": "7Q9lwvNEJrGB"
   },
   "source": [
    "## Topic Modelling using NMF\n",
    "\n",
    "Non-Negative Matrix Factorization (NMF) is an unsupervised technique so there are no labeling of topics that the model will be trained on. The way it works is that, NMF decomposes (or factorizes) high-dimensional vectors into a lower-dimensional representation. These lower-dimensional vectors are non-negative which also means their coefficients are non-negative.\n",
    "\n",
    "In this task you have to perform the following:\n",
    "\n",
    "* Find the best number of clusters\n",
    "* Apply the best number to create word clusters\n",
    "* Inspect & validate the correction of each cluster wrt the complaints\n",
    "* Correct the labels if needed\n",
    "* Map the clusters to topics/cluster names"
   ]
  },
  {
   "cell_type": "code",
   "execution_count": 64,
   "metadata": {
    "id": "amLT4omWJrGB"
   },
   "outputs": [],
   "source": [
    "from sklearn.decomposition import NMF"
   ]
  },
  {
   "cell_type": "markdown",
   "metadata": {
    "id": "0wYR1xUTJrGD"
   },
   "source": [
    "## Manual Topic Modeling\n",
    "You need to do take the trial & error approach to find the best num of topics for your NMF model.\n",
    "\n",
    "The only parameter that is required is the number of components i.e. the number of topics we want. This is the most crucial step in the whole topic modeling process and will greatly affect how good your final topics are."
   ]
  },
  {
   "cell_type": "code",
   "execution_count": 65,
   "metadata": {
    "id": "sgd2A6bhJrGD"
   },
   "outputs": [],
   "source": [
    "#Load your nmf_model with the n_components i.e 5\n",
    "num_topics = 5#write the value you want to test out\n",
    "\n",
    "#keep the random_state =40\n",
    "nmf_model = NMF(n_components=num_topics, init='random', random_state=40) #write your code here\n"
   ]
  },
  {
   "cell_type": "code",
   "execution_count": 66,
   "metadata": {
    "colab": {
     "base_uri": "https://localhost:8080/"
    },
    "id": "VPMDYbt_JrGE",
    "outputId": "a1debcda-02b3-4cf4-a8af-06b824a37960"
   },
   "outputs": [
    {
     "data": {
      "text/plain": [
       "6107"
      ]
     },
     "execution_count": 66,
     "metadata": {},
     "output_type": "execute_result"
    }
   ],
   "source": [
    "nmf_model.fit(tfidf)\n",
    "len(tfidf_vectorizer.get_feature_names_out())"
   ]
  },
  {
   "cell_type": "code",
   "execution_count": 67,
   "metadata": {
    "colab": {
     "base_uri": "https://localhost:8080/"
    },
    "id": "16kRfat5JrGE",
    "outputId": "1c93ab83-5174-4121-c1a9-c9829040deac"
   },
   "outputs": [
    {
     "name": "stdout",
     "output_type": "stream",
     "text": [
      "Topic 1:\n",
      "['chase,dispute,card,charge,transaction,claim,fraud,merchant,letter,call,email,number,phone,contact,purchase']\n",
      "\n",
      "Topic 2:\n",
      "['account,check,money,deposit,bank,fund,chase,branch,day,transfer,business,number,cash,call,reason']\n",
      "\n",
      "Topic 3:\n",
      "['payment,loan,mortgage,chase,month,modification,home,year,time,pay,interest,property,rate,auto,foreclosure']\n",
      "\n",
      "Topic 4:\n",
      "['credit,card,report,inquiry,account,score,chase,company,limit,debt,application,year,reporting,information,remove']\n",
      "\n",
      "Topic 5:\n",
      "['fee,charge,balance,interest,overdraft,card,pay,statement,month,rate,account,bill,purchase,transfer,payment']\n",
      "\n"
     ]
    }
   ],
   "source": [
    "#Print the Top15 words for each of the topics\n",
    "n_top_words = 15\n",
    "feature_names = tfidf_vectorizer.get_feature_names_out()\n",
    "\n",
    "for topic_idx, topic in enumerate(nmf_model.components_):\n",
    "    print(f\"Topic {topic_idx + 1}:\")\n",
    "    print([\",\".join([feature_names[i] for i in topic.argsort()[:-n_top_words - 1:-1]])])\n",
    "    print()"
   ]
  },
  {
   "cell_type": "code",
   "execution_count": 68,
   "metadata": {
    "colab": {
     "base_uri": "https://localhost:8080/"
    },
    "id": "0OIT7LmFJrGF",
    "outputId": "1878cc94-7f56-4fcb-bc7c-8abb792088b2"
   },
   "outputs": [
    {
     "data": {
      "text/plain": [
       "array([1, 0, 3, ..., 0, 2, 2])"
      ]
     },
     "execution_count": 68,
     "metadata": {},
     "output_type": "execute_result"
    }
   ],
   "source": [
    "#Create the best topic for each complaint in terms of integer value 0,1,2,3 & 4\n",
    "\n",
    "topic_values = nmf_model.transform(tfidf)\n",
    "topic_values.argmax(axis=1)\n"
   ]
  },
  {
   "cell_type": "code",
   "execution_count": 69,
   "metadata": {
    "id": "peyYv-ORJrGF"
   },
   "outputs": [],
   "source": [
    "#Assign the best topic to each of the cmplaints in Topic Column\n",
    "\n",
    "df_clean['Topic'] = topic_values.argmax(axis=1) #write your code to assign topics to each rows."
   ]
  },
  {
   "cell_type": "code",
   "execution_count": 70,
   "metadata": {
    "colab": {
     "base_uri": "https://localhost:8080/"
    },
    "id": "lWdZBUXhzcQj",
    "outputId": "46dd909b-0f9b-40a6-83fb-8d3558746efc"
   },
   "outputs": [
    {
     "data": {
      "text/plain": [
       "(21072, 5)"
      ]
     },
     "execution_count": 70,
     "metadata": {},
     "output_type": "execute_result"
    }
   ],
   "source": [
    "df_clean.shape"
   ]
  },
  {
   "cell_type": "code",
   "execution_count": 71,
   "metadata": {
    "colab": {
     "base_uri": "https://localhost:8080/",
     "height": 241
    },
    "id": "fLh_Gf3nJrGF",
    "outputId": "42612421-46f1-45d7-b01e-f714d689326c"
   },
   "outputs": [
    {
     "data": {
      "text/plain": [
       "1     morning help bank service write chase debt ver...\n",
       "2     card agent upgrade anniversary date change age...\n",
       "10    chase card report application submit identity ...\n",
       "11    book offer ticket reward card information minu...\n",
       "14    son deposit chase account fund bank account pa...\n",
       "Name: Complaint_clean, dtype: object"
      ]
     },
     "execution_count": 71,
     "metadata": {},
     "output_type": "execute_result"
    }
   ],
   "source": [
    "df_clean.head()['Complaint_clean']"
   ]
  },
  {
   "cell_type": "code",
   "execution_count": 72,
   "metadata": {
    "colab": {
     "base_uri": "https://localhost:8080/",
     "height": 1000
    },
    "id": "aQKpufSPJrGG",
    "outputId": "2daebae9-e2db-4460-c2a8-17cd8ff094f7"
   },
   "outputs": [
    {
     "data": {
      "text/html": [
       "<div>\n",
       "<style scoped>\n",
       "    .dataframe tbody tr th:only-of-type {\n",
       "        vertical-align: middle;\n",
       "    }\n",
       "\n",
       "    .dataframe tbody tr th {\n",
       "        vertical-align: top;\n",
       "    }\n",
       "\n",
       "    .dataframe thead th {\n",
       "        text-align: right;\n",
       "    }\n",
       "</style>\n",
       "<table border=\"1\" class=\"dataframe\">\n",
       "  <thead>\n",
       "    <tr style=\"text-align: right;\">\n",
       "      <th></th>\n",
       "      <th>complaints</th>\n",
       "      <th>lemmatized</th>\n",
       "      <th>complaint_POS_removed</th>\n",
       "      <th>Complaint_clean</th>\n",
       "      <th>Topic</th>\n",
       "    </tr>\n",
       "  </thead>\n",
       "  <tbody>\n",
       "    <tr>\n",
       "      <th>2</th>\n",
       "      <td>i upgraded my xxxx xxxx card in xx xx and was ...</td>\n",
       "      <td>upgrade xxxx xxxx card xx xx tell agent upgrad...</td>\n",
       "      <td>card agent upgrade anniversary date change age...</td>\n",
       "      <td>card agent upgrade anniversary date change age...</td>\n",
       "      <td>0</td>\n",
       "    </tr>\n",
       "    <tr>\n",
       "      <th>43</th>\n",
       "      <td>chase sent me an email today with the innocuou...</td>\n",
       "      <td>chase send email today innocuous title importa...</td>\n",
       "      <td>chase email today title information change cha...</td>\n",
       "      <td>chase email today title information change cha...</td>\n",
       "      <td>0</td>\n",
       "    </tr>\n",
       "    <tr>\n",
       "      <th>40</th>\n",
       "      <td>xxxx xxxx a sofa love seat table and chairs an...</td>\n",
       "      <td>xxxx xxxx sofa love seat table chair deliver d...</td>\n",
       "      <td>seat table chair deliver debit card charge ban...</td>\n",
       "      <td>seat table chair deliver debit card charge ban...</td>\n",
       "      <td>0</td>\n",
       "    </tr>\n",
       "    <tr>\n",
       "      <th>32</th>\n",
       "      <td>my chase amazon card was declined for a cateri...</td>\n",
       "      <td>chase amazon card decline catering order place...</td>\n",
       "      <td>catering order place brother contact chase noo...</td>\n",
       "      <td>catering order place brother contact chase noo...</td>\n",
       "      <td>0</td>\n",
       "    </tr>\n",
       "    <tr>\n",
       "      <th>21</th>\n",
       "      <td>on xxxx xx xx i made a payment to an online re...</td>\n",
       "      <td>xxxx xx xx payment online retailer chase quick...</td>\n",
       "      <td>xxxx payment retailer chase pay website scam w...</td>\n",
       "      <td>payment retailer chase pay website scam websi...</td>\n",
       "      <td>0</td>\n",
       "    </tr>\n",
       "    <tr>\n",
       "      <th>1</th>\n",
       "      <td>good morning my name is xxxx xxxx and i apprec...</td>\n",
       "      <td>good morning xxxx xxxx appreciate help stop ch...</td>\n",
       "      <td>morning help bank service write chase debt ver...</td>\n",
       "      <td>morning help bank service write chase debt ver...</td>\n",
       "      <td>1</td>\n",
       "    </tr>\n",
       "    <tr>\n",
       "      <th>24</th>\n",
       "      <td>mishandling of this account by chase auto and ...</td>\n",
       "      <td>mishandle account chase auto xxxx</td>\n",
       "      <td>mishandle account chase auto xxxx</td>\n",
       "      <td>mishandle account chase auto</td>\n",
       "      <td>1</td>\n",
       "    </tr>\n",
       "    <tr>\n",
       "      <th>27</th>\n",
       "      <td>i opened an account with chase bank on xxxx an...</td>\n",
       "      <td>open account chase bank xxxx code xxxx bonus c...</td>\n",
       "      <td>account call term account xxxx deposit bonus p...</td>\n",
       "      <td>account call term account  deposit bonus pay d...</td>\n",
       "      <td>1</td>\n",
       "    </tr>\n",
       "    <tr>\n",
       "      <th>17</th>\n",
       "      <td>with out notice j p morgan chase restricted my...</td>\n",
       "      <td>notice j p morgan chase restrict account debit...</td>\n",
       "      <td>account debit card branch customer service rep...</td>\n",
       "      <td>account debit card branch customer service rep...</td>\n",
       "      <td>1</td>\n",
       "    </tr>\n",
       "    <tr>\n",
       "      <th>14</th>\n",
       "      <td>my grand son give me check for i deposit it in...</td>\n",
       "      <td>grand son check deposit chase account fund cle...</td>\n",
       "      <td>son deposit chase account fund bank account pa...</td>\n",
       "      <td>son deposit chase account fund bank account pa...</td>\n",
       "      <td>1</td>\n",
       "    </tr>\n",
       "    <tr>\n",
       "      <th>81</th>\n",
       "      <td>i bought a new xxxx xxxx on xx xx xxxx from xx...</td>\n",
       "      <td>buy new xxxx xxxx xx xx xxxx xxxx xxxx xxxx xx...</td>\n",
       "      <td>xxxx loan release title contact chase time res...</td>\n",
       "      <td>loan release title contact chase time resolut...</td>\n",
       "      <td>2</td>\n",
       "    </tr>\n",
       "    <tr>\n",
       "      <th>73</th>\n",
       "      <td>i have wired through one of chase branches in ...</td>\n",
       "      <td>wire chase branch xxxx xxxx exact reinstatemen...</td>\n",
       "      <td>wire chase branch reinstatement order foreclos...</td>\n",
       "      <td>wire chase branch reinstatement order foreclos...</td>\n",
       "      <td>2</td>\n",
       "    </tr>\n",
       "    <tr>\n",
       "      <th>58</th>\n",
       "      <td>i made a purchase of on xx xx xxxx i made paym...</td>\n",
       "      <td>purchase xx xx xxxx payment xx xx xxxx xx xx x...</td>\n",
       "      <td>xxxx payment xxxx xxxx payment closing date st...</td>\n",
       "      <td>payment   payment closing date statement stat...</td>\n",
       "      <td>2</td>\n",
       "    </tr>\n",
       "    <tr>\n",
       "      <th>57</th>\n",
       "      <td>i have been trying to do a loan modification w...</td>\n",
       "      <td>try loan modification chase runaround m mo not...</td>\n",
       "      <td>loan modification chase payment</td>\n",
       "      <td>loan modification chase payment</td>\n",
       "      <td>2</td>\n",
       "    </tr>\n",
       "    <tr>\n",
       "      <th>20</th>\n",
       "      <td>during the summer months i experience a declin...</td>\n",
       "      <td>summer month experience decline income employm...</td>\n",
       "      <td>summer month experience income employment requ...</td>\n",
       "      <td>summer month experience income employment requ...</td>\n",
       "      <td>2</td>\n",
       "    </tr>\n",
       "    <tr>\n",
       "      <th>10</th>\n",
       "      <td>chase card was reported on xx xx however fraud...</td>\n",
       "      <td>chase card report xx xx fraudulent application...</td>\n",
       "      <td>chase card report application submit identity ...</td>\n",
       "      <td>chase card report application submit identity ...</td>\n",
       "      <td>3</td>\n",
       "    </tr>\n",
       "    <tr>\n",
       "      <th>26</th>\n",
       "      <td>i have reached out to xxxx several times in at...</td>\n",
       "      <td>reach xxxx time attempt fraudulent inquiry rem...</td>\n",
       "      <td>time attempt inquiry remove need contact credi...</td>\n",
       "      <td>time attempt inquiry remove need contact credi...</td>\n",
       "      <td>3</td>\n",
       "    </tr>\n",
       "    <tr>\n",
       "      <th>15</th>\n",
       "      <td>can you please remove inquiry</td>\n",
       "      <td>remove inquiry</td>\n",
       "      <td>inquiry</td>\n",
       "      <td>inquiry</td>\n",
       "      <td>3</td>\n",
       "    </tr>\n",
       "    <tr>\n",
       "      <th>23</th>\n",
       "      <td>i have a chase credit card which is incorrectl...</td>\n",
       "      <td>chase credit card incorrectly report datum cre...</td>\n",
       "      <td>chase credit card datum credit report company ...</td>\n",
       "      <td>chase credit card datum credit report company ...</td>\n",
       "      <td>3</td>\n",
       "    </tr>\n",
       "    <tr>\n",
       "      <th>11</th>\n",
       "      <td>on xx xx while trying to book a xxxx xxxx tick...</td>\n",
       "      <td>xx xx try book xxxx xxxx ticket come offer app...</td>\n",
       "      <td>book offer ticket reward card information minu...</td>\n",
       "      <td>book offer ticket reward card information minu...</td>\n",
       "      <td>3</td>\n",
       "    </tr>\n",
       "    <tr>\n",
       "      <th>30</th>\n",
       "      <td>to whom it may concern chase bank charged wron...</td>\n",
       "      <td>concern chase bank charge wrongly overdraft fe...</td>\n",
       "      <td>concern bank overdraft fee alert balance fee b...</td>\n",
       "      <td>concern bank overdraft fee alert balance fee b...</td>\n",
       "      <td>4</td>\n",
       "    </tr>\n",
       "    <tr>\n",
       "      <th>177</th>\n",
       "      <td>on xx xx i noticed a suspicious charge on my ...</td>\n",
       "      <td>xx xx notice suspicious charge account amoun...</td>\n",
       "      <td>charge account amount email seller transaction...</td>\n",
       "      <td>charge account amount email seller transaction...</td>\n",
       "      <td>4</td>\n",
       "    </tr>\n",
       "    <tr>\n",
       "      <th>63</th>\n",
       "      <td>i tried to send almost at xxxx and the transac...</td>\n",
       "      <td>try send xxxx transaction cancel have d charge...</td>\n",
       "      <td>transaction charge receive service refund card...</td>\n",
       "      <td>transaction charge receive service refund card...</td>\n",
       "      <td>4</td>\n",
       "    </tr>\n",
       "    <tr>\n",
       "      <th>160</th>\n",
       "      <td>on more than one occasion my bank chase has ch...</td>\n",
       "      <td>occasion bank chase charge multiple overdraft ...</td>\n",
       "      <td>chase overdraft fee account way process charge...</td>\n",
       "      <td>chase overdraft fee account way process charge...</td>\n",
       "      <td>4</td>\n",
       "    </tr>\n",
       "    <tr>\n",
       "      <th>198</th>\n",
       "      <td>i overdrew my account due to errors related to...</td>\n",
       "      <td>overdraw account error relate xxxx xxxx transa...</td>\n",
       "      <td>overdraw account error overdraft fee payment f...</td>\n",
       "      <td>overdraw account error overdraft fee payment f...</td>\n",
       "      <td>4</td>\n",
       "    </tr>\n",
       "  </tbody>\n",
       "</table>\n",
       "</div>"
      ],
      "text/plain": [
       "                                            complaints  \\\n",
       "2    i upgraded my xxxx xxxx card in xx xx and was ...   \n",
       "43   chase sent me an email today with the innocuou...   \n",
       "40   xxxx xxxx a sofa love seat table and chairs an...   \n",
       "32   my chase amazon card was declined for a cateri...   \n",
       "21   on xxxx xx xx i made a payment to an online re...   \n",
       "1    good morning my name is xxxx xxxx and i apprec...   \n",
       "24   mishandling of this account by chase auto and ...   \n",
       "27   i opened an account with chase bank on xxxx an...   \n",
       "17   with out notice j p morgan chase restricted my...   \n",
       "14   my grand son give me check for i deposit it in...   \n",
       "81   i bought a new xxxx xxxx on xx xx xxxx from xx...   \n",
       "73   i have wired through one of chase branches in ...   \n",
       "58   i made a purchase of on xx xx xxxx i made paym...   \n",
       "57   i have been trying to do a loan modification w...   \n",
       "20   during the summer months i experience a declin...   \n",
       "10   chase card was reported on xx xx however fraud...   \n",
       "26   i have reached out to xxxx several times in at...   \n",
       "15                       can you please remove inquiry   \n",
       "23   i have a chase credit card which is incorrectl...   \n",
       "11   on xx xx while trying to book a xxxx xxxx tick...   \n",
       "30   to whom it may concern chase bank charged wron...   \n",
       "177   on xx xx i noticed a suspicious charge on my ...   \n",
       "63   i tried to send almost at xxxx and the transac...   \n",
       "160  on more than one occasion my bank chase has ch...   \n",
       "198  i overdrew my account due to errors related to...   \n",
       "\n",
       "                                            lemmatized  \\\n",
       "2    upgrade xxxx xxxx card xx xx tell agent upgrad...   \n",
       "43   chase send email today innocuous title importa...   \n",
       "40   xxxx xxxx sofa love seat table chair deliver d...   \n",
       "32   chase amazon card decline catering order place...   \n",
       "21   xxxx xx xx payment online retailer chase quick...   \n",
       "1    good morning xxxx xxxx appreciate help stop ch...   \n",
       "24                   mishandle account chase auto xxxx   \n",
       "27   open account chase bank xxxx code xxxx bonus c...   \n",
       "17   notice j p morgan chase restrict account debit...   \n",
       "14   grand son check deposit chase account fund cle...   \n",
       "81   buy new xxxx xxxx xx xx xxxx xxxx xxxx xxxx xx...   \n",
       "73   wire chase branch xxxx xxxx exact reinstatemen...   \n",
       "58   purchase xx xx xxxx payment xx xx xxxx xx xx x...   \n",
       "57   try loan modification chase runaround m mo not...   \n",
       "20   summer month experience decline income employm...   \n",
       "10   chase card report xx xx fraudulent application...   \n",
       "26   reach xxxx time attempt fraudulent inquiry rem...   \n",
       "15                                      remove inquiry   \n",
       "23   chase credit card incorrectly report datum cre...   \n",
       "11   xx xx try book xxxx xxxx ticket come offer app...   \n",
       "30   concern chase bank charge wrongly overdraft fe...   \n",
       "177    xx xx notice suspicious charge account amoun...   \n",
       "63   try send xxxx transaction cancel have d charge...   \n",
       "160  occasion bank chase charge multiple overdraft ...   \n",
       "198  overdraw account error relate xxxx xxxx transa...   \n",
       "\n",
       "                                 complaint_POS_removed  \\\n",
       "2    card agent upgrade anniversary date change age...   \n",
       "43   chase email today title information change cha...   \n",
       "40   seat table chair deliver debit card charge ban...   \n",
       "32   catering order place brother contact chase noo...   \n",
       "21   xxxx payment retailer chase pay website scam w...   \n",
       "1    morning help bank service write chase debt ver...   \n",
       "24                   mishandle account chase auto xxxx   \n",
       "27   account call term account xxxx deposit bonus p...   \n",
       "17   account debit card branch customer service rep...   \n",
       "14   son deposit chase account fund bank account pa...   \n",
       "81   xxxx loan release title contact chase time res...   \n",
       "73   wire chase branch reinstatement order foreclos...   \n",
       "58   xxxx payment xxxx xxxx payment closing date st...   \n",
       "57                     loan modification chase payment   \n",
       "20   summer month experience income employment requ...   \n",
       "10   chase card report application submit identity ...   \n",
       "26   time attempt inquiry remove need contact credi...   \n",
       "15                                             inquiry   \n",
       "23   chase credit card datum credit report company ...   \n",
       "11   book offer ticket reward card information minu...   \n",
       "30   concern bank overdraft fee alert balance fee b...   \n",
       "177  charge account amount email seller transaction...   \n",
       "63   transaction charge receive service refund card...   \n",
       "160  chase overdraft fee account way process charge...   \n",
       "198  overdraw account error overdraft fee payment f...   \n",
       "\n",
       "                                       Complaint_clean  Topic  \n",
       "2    card agent upgrade anniversary date change age...      0  \n",
       "43   chase email today title information change cha...      0  \n",
       "40   seat table chair deliver debit card charge ban...      0  \n",
       "32   catering order place brother contact chase noo...      0  \n",
       "21    payment retailer chase pay website scam websi...      0  \n",
       "1    morning help bank service write chase debt ver...      1  \n",
       "24                       mishandle account chase auto       1  \n",
       "27   account call term account  deposit bonus pay d...      1  \n",
       "17   account debit card branch customer service rep...      1  \n",
       "14   son deposit chase account fund bank account pa...      1  \n",
       "81    loan release title contact chase time resolut...      2  \n",
       "73   wire chase branch reinstatement order foreclos...      2  \n",
       "58    payment   payment closing date statement stat...      2  \n",
       "57                     loan modification chase payment      2  \n",
       "20   summer month experience income employment requ...      2  \n",
       "10   chase card report application submit identity ...      3  \n",
       "26   time attempt inquiry remove need contact credi...      3  \n",
       "15                                             inquiry      3  \n",
       "23   chase credit card datum credit report company ...      3  \n",
       "11   book offer ticket reward card information minu...      3  \n",
       "30   concern bank overdraft fee alert balance fee b...      4  \n",
       "177  charge account amount email seller transaction...      4  \n",
       "63   transaction charge receive service refund card...      4  \n",
       "160  chase overdraft fee account way process charge...      4  \n",
       "198  overdraw account error overdraft fee payment f...      4  "
      ]
     },
     "execution_count": 72,
     "metadata": {},
     "output_type": "execute_result"
    }
   ],
   "source": [
    "#Print the first 5 Complaint for each of the Topics\n",
    "df_clean_5=df_clean.groupby('Topic').head(5)\n",
    "df_clean_5.sort_values('Topic')\n"
   ]
  },
  {
   "cell_type": "code",
   "execution_count": 73,
   "metadata": {
    "colab": {
     "base_uri": "https://localhost:8080/"
    },
    "id": "KKB4i-3XzcQk",
    "outputId": "300f6803-bf94-4db1-86cf-140bb2d0fae1"
   },
   "outputs": [
    {
     "data": {
      "text/plain": [
       "(25, 5)"
      ]
     },
     "execution_count": 73,
     "metadata": {},
     "output_type": "execute_result"
    }
   ],
   "source": [
    " df_clean_5.shape"
   ]
  },
  {
   "cell_type": "markdown",
   "metadata": {
    "id": "piyLxzj6v07j"
   },
   "source": [
    "#### After evaluating the mapping, if the topics assigned are correct then assign these names to the relevant topic:\n",
    "* Bank Account services\n",
    "* Credit card or prepaid card\n",
    "* Theft/Dispute Reporting\n",
    "* Mortgage/Loan\n",
    "* Others"
   ]
  },
  {
   "cell_type": "code",
   "execution_count": 74,
   "metadata": {
    "id": "TWpwDG4RJrGG"
   },
   "outputs": [],
   "source": [
    "#Create the dictionary of Topic names and Topics\n",
    "\n",
    "Topic_names = {\n",
    "    0: 'Theft/Dispute Reporting',\n",
    "    1: 'Bank Account services',\n",
    "    2: 'Mortgage/Loan',\n",
    "    3: 'Credit card / Prepaid card',\n",
    "    4: 'Others'\n",
    "}\n",
    "#Replace Topics with Topic Names\n",
    "df_clean['Topic'] = df_clean['Topic'].map(Topic_names)"
   ]
  },
  {
   "cell_type": "code",
   "execution_count": 75,
   "metadata": {
    "colab": {
     "base_uri": "https://localhost:8080/"
    },
    "id": "-2ULY5K6JrGG",
    "outputId": "f1ebe5e4-28e0-4cad-d505-f13c8c4c8798"
   },
   "outputs": [
    {
     "name": "stdout",
     "output_type": "stream",
     "text": [
      "<class 'pandas.core.frame.DataFrame'>\n",
      "Index: 21072 entries, 1 to 78312\n",
      "Data columns (total 5 columns):\n",
      " #   Column                 Non-Null Count  Dtype \n",
      "---  ------                 --------------  ----- \n",
      " 0   complaints             21072 non-null  object\n",
      " 1   lemmatized             21072 non-null  object\n",
      " 2   complaint_POS_removed  21072 non-null  object\n",
      " 3   Complaint_clean        21072 non-null  object\n",
      " 4   Topic                  21072 non-null  object\n",
      "dtypes: object(5)\n",
      "memory usage: 1.5+ MB\n"
     ]
    }
   ],
   "source": [
    "df_clean.info()\n"
   ]
  },
  {
   "cell_type": "code",
   "execution_count": 76,
   "metadata": {
    "colab": {
     "base_uri": "https://localhost:8080/"
    },
    "id": "FK1cpvrfzcQn",
    "outputId": "321bf558-6470-4c0d-d5a2-e5040d981af0"
   },
   "outputs": [
    {
     "data": {
      "text/plain": [
       "(21072, 5)"
      ]
     },
     "execution_count": 76,
     "metadata": {},
     "output_type": "execute_result"
    }
   ],
   "source": [
    "df_clean.shape"
   ]
  },
  {
   "cell_type": "markdown",
   "metadata": {
    "id": "7Mu0QBOcJrGH"
   },
   "source": [
    "## Supervised model to predict any new complaints to the relevant Topics.\n",
    "\n",
    "You have now build the model to create the topics for each complaints.Now in the below section you will use them to classify any new complaints.\n",
    "\n",
    "Since you will be using supervised learning technique we have to convert the topic names to numbers(numpy arrays only understand numbers)"
   ]
  },
  {
   "cell_type": "code",
   "execution_count": 77,
   "metadata": {
    "colab": {
     "base_uri": "https://localhost:8080/",
     "height": 597
    },
    "id": "BWIgJUkQJrGH",
    "outputId": "fc289c0a-c777-4046-e74f-c06c81c2689c"
   },
   "outputs": [
    {
     "data": {
      "text/html": [
       "<div>\n",
       "<style scoped>\n",
       "    .dataframe tbody tr th:only-of-type {\n",
       "        vertical-align: middle;\n",
       "    }\n",
       "\n",
       "    .dataframe tbody tr th {\n",
       "        vertical-align: top;\n",
       "    }\n",
       "\n",
       "    .dataframe thead th {\n",
       "        text-align: right;\n",
       "    }\n",
       "</style>\n",
       "<table border=\"1\" class=\"dataframe\">\n",
       "  <thead>\n",
       "    <tr style=\"text-align: right;\">\n",
       "      <th></th>\n",
       "      <th>complaints</th>\n",
       "      <th>lemmatized</th>\n",
       "      <th>complaint_POS_removed</th>\n",
       "      <th>Complaint_clean</th>\n",
       "      <th>Topic</th>\n",
       "    </tr>\n",
       "  </thead>\n",
       "  <tbody>\n",
       "    <tr>\n",
       "      <th>1</th>\n",
       "      <td>good morning my name is xxxx xxxx and i apprec...</td>\n",
       "      <td>good morning xxxx xxxx appreciate help stop ch...</td>\n",
       "      <td>morning help bank service write chase debt ver...</td>\n",
       "      <td>morning help bank service write chase debt ver...</td>\n",
       "      <td>Bank Account services</td>\n",
       "    </tr>\n",
       "    <tr>\n",
       "      <th>2</th>\n",
       "      <td>i upgraded my xxxx xxxx card in xx xx and was ...</td>\n",
       "      <td>upgrade xxxx xxxx card xx xx tell agent upgrad...</td>\n",
       "      <td>card agent upgrade anniversary date change age...</td>\n",
       "      <td>card agent upgrade anniversary date change age...</td>\n",
       "      <td>Theft/Dispute Reporting</td>\n",
       "    </tr>\n",
       "    <tr>\n",
       "      <th>10</th>\n",
       "      <td>chase card was reported on xx xx however fraud...</td>\n",
       "      <td>chase card report xx xx fraudulent application...</td>\n",
       "      <td>chase card report application submit identity ...</td>\n",
       "      <td>chase card report application submit identity ...</td>\n",
       "      <td>Credit card / Prepaid card</td>\n",
       "    </tr>\n",
       "    <tr>\n",
       "      <th>11</th>\n",
       "      <td>on xx xx while trying to book a xxxx xxxx tick...</td>\n",
       "      <td>xx xx try book xxxx xxxx ticket come offer app...</td>\n",
       "      <td>book offer ticket reward card information minu...</td>\n",
       "      <td>book offer ticket reward card information minu...</td>\n",
       "      <td>Credit card / Prepaid card</td>\n",
       "    </tr>\n",
       "    <tr>\n",
       "      <th>14</th>\n",
       "      <td>my grand son give me check for i deposit it in...</td>\n",
       "      <td>grand son check deposit chase account fund cle...</td>\n",
       "      <td>son deposit chase account fund bank account pa...</td>\n",
       "      <td>son deposit chase account fund bank account pa...</td>\n",
       "      <td>Bank Account services</td>\n",
       "    </tr>\n",
       "    <tr>\n",
       "      <th>...</th>\n",
       "      <td>...</td>\n",
       "      <td>...</td>\n",
       "      <td>...</td>\n",
       "      <td>...</td>\n",
       "      <td>...</td>\n",
       "    </tr>\n",
       "    <tr>\n",
       "      <th>78303</th>\n",
       "      <td>after being a chase card customer for well ove...</td>\n",
       "      <td>chase card customer decade offer multiple soli...</td>\n",
       "      <td>chase card customer decade solicitation credit...</td>\n",
       "      <td>chase card customer decade solicitation credit...</td>\n",
       "      <td>Credit card / Prepaid card</td>\n",
       "    </tr>\n",
       "    <tr>\n",
       "      <th>78309</th>\n",
       "      <td>on wednesday xx xx xxxx i called chas my xxxx ...</td>\n",
       "      <td>wednesday xx xx xxxx call chas xxxx xxxx visa ...</td>\n",
       "      <td>credit card provider ask claim purchase protec...</td>\n",
       "      <td>credit card provider ask claim purchase protec...</td>\n",
       "      <td>Theft/Dispute Reporting</td>\n",
       "    </tr>\n",
       "    <tr>\n",
       "      <th>78310</th>\n",
       "      <td>i am not familiar with xxxx pay and did not un...</td>\n",
       "      <td>familiar xxxx pay understand great risk provid...</td>\n",
       "      <td>xxxx risk consumer year trust mobile banking t...</td>\n",
       "      <td>risk consumer year trust mobile banking tell ...</td>\n",
       "      <td>Theft/Dispute Reporting</td>\n",
       "    </tr>\n",
       "    <tr>\n",
       "      <th>78311</th>\n",
       "      <td>i have had flawless credit for yrs i ve had ch...</td>\n",
       "      <td>flawless credit yrs ve chase credit card chase...</td>\n",
       "      <td>credit yrs credit card chase freedom problem t...</td>\n",
       "      <td>credit yrs credit card chase freedom problem t...</td>\n",
       "      <td>Mortgage/Loan</td>\n",
       "    </tr>\n",
       "    <tr>\n",
       "      <th>78312</th>\n",
       "      <td>roughly years ago i closed out my accounts wit...</td>\n",
       "      <td>roughly year ago close account jp morgan chase...</td>\n",
       "      <td>year account order line credit account payment...</td>\n",
       "      <td>year account order line credit account payment...</td>\n",
       "      <td>Mortgage/Loan</td>\n",
       "    </tr>\n",
       "  </tbody>\n",
       "</table>\n",
       "<p>21072 rows × 5 columns</p>\n",
       "</div>"
      ],
      "text/plain": [
       "                                              complaints  \\\n",
       "1      good morning my name is xxxx xxxx and i apprec...   \n",
       "2      i upgraded my xxxx xxxx card in xx xx and was ...   \n",
       "10     chase card was reported on xx xx however fraud...   \n",
       "11     on xx xx while trying to book a xxxx xxxx tick...   \n",
       "14     my grand son give me check for i deposit it in...   \n",
       "...                                                  ...   \n",
       "78303  after being a chase card customer for well ove...   \n",
       "78309  on wednesday xx xx xxxx i called chas my xxxx ...   \n",
       "78310  i am not familiar with xxxx pay and did not un...   \n",
       "78311  i have had flawless credit for yrs i ve had ch...   \n",
       "78312  roughly years ago i closed out my accounts wit...   \n",
       "\n",
       "                                              lemmatized  \\\n",
       "1      good morning xxxx xxxx appreciate help stop ch...   \n",
       "2      upgrade xxxx xxxx card xx xx tell agent upgrad...   \n",
       "10     chase card report xx xx fraudulent application...   \n",
       "11     xx xx try book xxxx xxxx ticket come offer app...   \n",
       "14     grand son check deposit chase account fund cle...   \n",
       "...                                                  ...   \n",
       "78303  chase card customer decade offer multiple soli...   \n",
       "78309  wednesday xx xx xxxx call chas xxxx xxxx visa ...   \n",
       "78310  familiar xxxx pay understand great risk provid...   \n",
       "78311  flawless credit yrs ve chase credit card chase...   \n",
       "78312  roughly year ago close account jp morgan chase...   \n",
       "\n",
       "                                   complaint_POS_removed  \\\n",
       "1      morning help bank service write chase debt ver...   \n",
       "2      card agent upgrade anniversary date change age...   \n",
       "10     chase card report application submit identity ...   \n",
       "11     book offer ticket reward card information minu...   \n",
       "14     son deposit chase account fund bank account pa...   \n",
       "...                                                  ...   \n",
       "78303  chase card customer decade solicitation credit...   \n",
       "78309  credit card provider ask claim purchase protec...   \n",
       "78310  xxxx risk consumer year trust mobile banking t...   \n",
       "78311  credit yrs credit card chase freedom problem t...   \n",
       "78312  year account order line credit account payment...   \n",
       "\n",
       "                                         Complaint_clean  \\\n",
       "1      morning help bank service write chase debt ver...   \n",
       "2      card agent upgrade anniversary date change age...   \n",
       "10     chase card report application submit identity ...   \n",
       "11     book offer ticket reward card information minu...   \n",
       "14     son deposit chase account fund bank account pa...   \n",
       "...                                                  ...   \n",
       "78303  chase card customer decade solicitation credit...   \n",
       "78309  credit card provider ask claim purchase protec...   \n",
       "78310   risk consumer year trust mobile banking tell ...   \n",
       "78311  credit yrs credit card chase freedom problem t...   \n",
       "78312  year account order line credit account payment...   \n",
       "\n",
       "                            Topic  \n",
       "1           Bank Account services  \n",
       "2         Theft/Dispute Reporting  \n",
       "10     Credit card / Prepaid card  \n",
       "11     Credit card / Prepaid card  \n",
       "14          Bank Account services  \n",
       "...                           ...  \n",
       "78303  Credit card / Prepaid card  \n",
       "78309     Theft/Dispute Reporting  \n",
       "78310     Theft/Dispute Reporting  \n",
       "78311               Mortgage/Loan  \n",
       "78312               Mortgage/Loan  \n",
       "\n",
       "[21072 rows x 5 columns]"
      ]
     },
     "execution_count": 77,
     "metadata": {},
     "output_type": "execute_result"
    }
   ],
   "source": [
    "df_clean"
   ]
  },
  {
   "cell_type": "code",
   "execution_count": 78,
   "metadata": {
    "id": "Xx-FrbkWJrGH"
   },
   "outputs": [],
   "source": [
    "#Keep the columns\"complaint_what_happened\" & \"Topic\" only in the new dataframe --> training_data\n",
    "training_data=training_data = df_clean[[\"complaints\", \"Topic\"]].copy()"
   ]
  },
  {
   "cell_type": "code",
   "execution_count": 79,
   "metadata": {
    "colab": {
     "base_uri": "https://localhost:8080/",
     "height": 423
    },
    "id": "lVg2pa12JrGI",
    "outputId": "d632f0e8-8bcd-4a35-db0a-ca447bef3b4d"
   },
   "outputs": [
    {
     "data": {
      "text/html": [
       "<div>\n",
       "<style scoped>\n",
       "    .dataframe tbody tr th:only-of-type {\n",
       "        vertical-align: middle;\n",
       "    }\n",
       "\n",
       "    .dataframe tbody tr th {\n",
       "        vertical-align: top;\n",
       "    }\n",
       "\n",
       "    .dataframe thead th {\n",
       "        text-align: right;\n",
       "    }\n",
       "</style>\n",
       "<table border=\"1\" class=\"dataframe\">\n",
       "  <thead>\n",
       "    <tr style=\"text-align: right;\">\n",
       "      <th></th>\n",
       "      <th>complaints</th>\n",
       "      <th>Topic</th>\n",
       "    </tr>\n",
       "  </thead>\n",
       "  <tbody>\n",
       "    <tr>\n",
       "      <th>1</th>\n",
       "      <td>good morning my name is xxxx xxxx and i apprec...</td>\n",
       "      <td>Bank Account services</td>\n",
       "    </tr>\n",
       "    <tr>\n",
       "      <th>2</th>\n",
       "      <td>i upgraded my xxxx xxxx card in xx xx and was ...</td>\n",
       "      <td>Theft/Dispute Reporting</td>\n",
       "    </tr>\n",
       "    <tr>\n",
       "      <th>10</th>\n",
       "      <td>chase card was reported on xx xx however fraud...</td>\n",
       "      <td>Credit card / Prepaid card</td>\n",
       "    </tr>\n",
       "    <tr>\n",
       "      <th>11</th>\n",
       "      <td>on xx xx while trying to book a xxxx xxxx tick...</td>\n",
       "      <td>Credit card / Prepaid card</td>\n",
       "    </tr>\n",
       "    <tr>\n",
       "      <th>14</th>\n",
       "      <td>my grand son give me check for i deposit it in...</td>\n",
       "      <td>Bank Account services</td>\n",
       "    </tr>\n",
       "    <tr>\n",
       "      <th>...</th>\n",
       "      <td>...</td>\n",
       "      <td>...</td>\n",
       "    </tr>\n",
       "    <tr>\n",
       "      <th>78303</th>\n",
       "      <td>after being a chase card customer for well ove...</td>\n",
       "      <td>Credit card / Prepaid card</td>\n",
       "    </tr>\n",
       "    <tr>\n",
       "      <th>78309</th>\n",
       "      <td>on wednesday xx xx xxxx i called chas my xxxx ...</td>\n",
       "      <td>Theft/Dispute Reporting</td>\n",
       "    </tr>\n",
       "    <tr>\n",
       "      <th>78310</th>\n",
       "      <td>i am not familiar with xxxx pay and did not un...</td>\n",
       "      <td>Theft/Dispute Reporting</td>\n",
       "    </tr>\n",
       "    <tr>\n",
       "      <th>78311</th>\n",
       "      <td>i have had flawless credit for yrs i ve had ch...</td>\n",
       "      <td>Mortgage/Loan</td>\n",
       "    </tr>\n",
       "    <tr>\n",
       "      <th>78312</th>\n",
       "      <td>roughly years ago i closed out my accounts wit...</td>\n",
       "      <td>Mortgage/Loan</td>\n",
       "    </tr>\n",
       "  </tbody>\n",
       "</table>\n",
       "<p>21072 rows × 2 columns</p>\n",
       "</div>"
      ],
      "text/plain": [
       "                                              complaints  \\\n",
       "1      good morning my name is xxxx xxxx and i apprec...   \n",
       "2      i upgraded my xxxx xxxx card in xx xx and was ...   \n",
       "10     chase card was reported on xx xx however fraud...   \n",
       "11     on xx xx while trying to book a xxxx xxxx tick...   \n",
       "14     my grand son give me check for i deposit it in...   \n",
       "...                                                  ...   \n",
       "78303  after being a chase card customer for well ove...   \n",
       "78309  on wednesday xx xx xxxx i called chas my xxxx ...   \n",
       "78310  i am not familiar with xxxx pay and did not un...   \n",
       "78311  i have had flawless credit for yrs i ve had ch...   \n",
       "78312  roughly years ago i closed out my accounts wit...   \n",
       "\n",
       "                            Topic  \n",
       "1           Bank Account services  \n",
       "2         Theft/Dispute Reporting  \n",
       "10     Credit card / Prepaid card  \n",
       "11     Credit card / Prepaid card  \n",
       "14          Bank Account services  \n",
       "...                           ...  \n",
       "78303  Credit card / Prepaid card  \n",
       "78309     Theft/Dispute Reporting  \n",
       "78310     Theft/Dispute Reporting  \n",
       "78311               Mortgage/Loan  \n",
       "78312               Mortgage/Loan  \n",
       "\n",
       "[21072 rows x 2 columns]"
      ]
     },
     "execution_count": 79,
     "metadata": {},
     "output_type": "execute_result"
    }
   ],
   "source": [
    "training_data"
   ]
  },
  {
   "cell_type": "code",
   "execution_count": 80,
   "metadata": {
    "colab": {
     "base_uri": "https://localhost:8080/"
    },
    "id": "HVh6LUfQzcQo",
    "outputId": "21b91742-f035-4d98-f8d2-37bca06faa7e"
   },
   "outputs": [
    {
     "name": "stdout",
     "output_type": "stream",
     "text": [
      "<class 'pandas.core.frame.DataFrame'>\n",
      "Index: 21072 entries, 1 to 78312\n",
      "Data columns (total 5 columns):\n",
      " #   Column                 Non-Null Count  Dtype \n",
      "---  ------                 --------------  ----- \n",
      " 0   complaints             21072 non-null  object\n",
      " 1   lemmatized             21072 non-null  object\n",
      " 2   complaint_POS_removed  21072 non-null  object\n",
      " 3   Complaint_clean        21072 non-null  object\n",
      " 4   Topic                  21072 non-null  object\n",
      "dtypes: object(5)\n",
      "memory usage: 1.5+ MB\n"
     ]
    }
   ],
   "source": [
    "df_clean.info()"
   ]
  },
  {
   "cell_type": "markdown",
   "metadata": {
    "id": "280Vbqk-7a8M"
   },
   "source": [
    "####Apply the supervised models on the training data created. In this process, you have to do the following:\n",
    "* Create the vector counts using Count Vectoriser\n",
    "* Transform the word vecotr to tf-idf\n",
    "* Create the train & test data using the train_test_split on the tf-idf & topics\n"
   ]
  },
  {
   "cell_type": "code",
   "execution_count": 81,
   "metadata": {
    "id": "oUlQpgkzJrGI"
   },
   "outputs": [],
   "source": [
    "from sklearn.feature_extraction.text import TfidfVectorizer, TfidfTransformer\n",
    "\n",
    "count_vect=CountVectorizer()\n",
    "#Write your code to get the Vector count\n",
    "X_train_counts=count_vect.fit_transform(training_data['complaints'])\n",
    "#Write your code here to transform the word vector to tf-idf\n",
    "tfidf_transformer=TfidfTransformer()\n",
    "X_train_tfidf=tfidf_transformer.fit_transform(X_train_counts)"
   ]
  },
  {
   "cell_type": "code",
   "execution_count": 82,
   "metadata": {
    "colab": {
     "base_uri": "https://localhost:8080/"
    },
    "id": "P8KD2SYgzcQp",
    "outputId": "5884e221-e39a-4b0e-caf8-48bfc91dd976"
   },
   "outputs": [
    {
     "data": {
      "text/plain": [
       "28025"
      ]
     },
     "execution_count": 82,
     "metadata": {},
     "output_type": "execute_result"
    }
   ],
   "source": [
    "X_train_tfidf.shape[1]"
   ]
  },
  {
   "cell_type": "code",
   "execution_count": 84,
   "metadata": {
    "id": "xhT0OuFnzcQp"
   },
   "outputs": [],
   "source": [
    "# Here we can see that, there is data imbalaced, but not much."
   ]
  },
  {
   "cell_type": "markdown",
   "metadata": {
    "id": "uMU3vj6w-wqL"
   },
   "source": [
    "You have to try atleast 3 models on the train & test data from these options:\n",
    "* Logistic regression\n",
    "* Decision Tree\n",
    "* Random Forest\n",
    "* Naive Bayes (optional)\n",
    "\n",
    "**Using the required evaluation metrics judge the tried models and select the ones performing the best**"
   ]
  },
  {
   "cell_type": "code",
   "execution_count": 85,
   "metadata": {
    "id": "udLHpPsZJrGI"
   },
   "outputs": [],
   "source": [
    "# Write your code here to build any 3 models and evaluate them using the required metrics\n",
    "\n",
    "\n",
    "\n"
   ]
  },
  {
   "cell_type": "code",
   "execution_count": 86,
   "metadata": {
    "id": "N2OznsObJrGP"
   },
   "outputs": [],
   "source": [
    "# importing libraries required for model building and evaluation\n",
    "from sklearn.linear_model import LogisticRegression\n",
    "from sklearn.tree import DecisionTreeClassifier\n",
    "from sklearn.ensemble import RandomForestClassifier\n",
    "from sklearn.naive_bayes import MultinomialNB\n",
    "from xgboost import XGBClassifier\n",
    "\n",
    "from sklearn.model_selection import StratifiedKFold,GridSearchCV,train_test_split\n",
    "\n",
    "from sklearn.metrics import roc_auc_score,accuracy_score,precision_score,recall_score,f1_score,classification_report\n",
    "from sklearn.metrics import confusion_matrix,ConfusionMatrixDisplay"
   ]
  },
  {
   "cell_type": "code",
   "execution_count": 87,
   "metadata": {
    "id": "L-qb68TmzcQq"
   },
   "outputs": [],
   "source": [
    "from sklearn.model_selection import train_test_split\n",
    "# Train-Test split\n",
    "\n",
    "train_X, test_X, train_y, test_y = train_test_split(X_train_tfidf, training_data['Topic'], test_size=0.2, random_state=40)\n"
   ]
  },
  {
   "cell_type": "code",
   "execution_count": 88,
   "metadata": {
    "colab": {
     "base_uri": "https://localhost:8080/"
    },
    "id": "liCDgZnPzcQq",
    "outputId": "2474f9f9-ca30-42e0-8087-c12713ffa251"
   },
   "outputs": [
    {
     "name": "stdout",
     "output_type": "stream",
     "text": [
      "train_X shape:  (16857, 28025)\n",
      "train_y shape:  (16857,)\n",
      "test_X shape:  (4215, 28025)\n",
      "test_y shape:  (4215,)\n"
     ]
    }
   ],
   "source": [
    "print('train_X shape: ', train_X.shape)\n",
    "print('train_y shape: ', train_y.shape)\n",
    "print('test_X shape: ', test_X.shape)\n",
    "print('test_y shape: ', test_y.shape)"
   ]
  },
  {
   "cell_type": "code",
   "execution_count": 89,
   "metadata": {
    "id": "-XMcqp4mzcQq"
   },
   "outputs": [],
   "source": [
    "# importing libraries\n",
    "from sklearn.tree import DecisionTreeClassifier\n",
    "from sklearn.model_selection import StratifiedKFold\n",
    "from sklearn.model_selection import GridSearchCV\n",
    "from sklearn.metrics import accuracy_score\n",
    "from sklearn.metrics import precision_score\n",
    "from sklearn.metrics import recall_score\n",
    "from sklearn.metrics import f1_score\n",
    "from sklearn.metrics import roc_auc_score\n",
    "from sklearn.metrics import classification_report\n",
    "from sklearn.metrics import confusion_matrix\n",
    "from sklearn.metrics import ConfusionMatrixDisplay"
   ]
  },
  {
   "cell_type": "code",
   "execution_count": 90,
   "metadata": {
    "id": "QqyEUWmSzcQr"
   },
   "outputs": [],
   "source": [
    "# evaluate models\n",
    "def eval_model(y_test,y_pred,y_pred_proba,type='Training'):\n",
    "    print(type,'results')\n",
    "    # Use the built-in round function instead of the method\n",
    "    print('Accuracy: ', round(accuracy_score(y_test,y_pred), 2))\n",
    "    print('Precision: ', round(precision_score(y_test,y_pred,average='weighted'), 2))\n",
    "    print('Recall: ', round(recall_score(y_test,y_pred,average='weighted'), 2))\n",
    "    print('F1 Score: ', round(f1_score(y_test,y_pred,average='weighted'), 2))\n",
    "    print('ROC AUC Score: ', round(roc_auc_score(y_test,y_pred_proba,average='weighted',multi_class='ovr'), 2))\n",
    "    print('Classification Report: ', classification_report(y_test,y_pred))\n",
    "    cm = confusion_matrix(y_test,y_pred)\n",
    "    disp = ConfusionMatrixDisplay(confusion_matrix=cm,display_labels=training_data['Topic'].unique())\n",
    "    disp.plot()"
   ]
  },
  {
   "cell_type": "code",
   "execution_count": 91,
   "metadata": {
    "id": "tkflA3DBzcQr"
   },
   "outputs": [],
   "source": [
    "# run model\n",
    "def run_model(model,param_grid):\n",
    "    cv=StratifiedKFold(n_splits=5,shuffle=True,random_state=40)\n",
    "    grid=GridSearchCV(model,param_grid={},cv=cv,scoring='f1_weighted',verbose=1,n_jobs=-1)\n",
    "    grid.fit(train_X,train_y)\n",
    "    return grid.best_estimator_"
   ]
  },
  {
   "cell_type": "raw",
   "metadata": {
    "id": "cq7H2WWJzcQr"
   },
   "source": [
    "** Logistic Regression **"
   ]
  },
  {
   "cell_type": "code",
   "execution_count": 92,
   "metadata": {
    "colab": {
     "base_uri": "https://localhost:8080/",
     "height": 1000
    },
    "id": "UMSKiJcHzcQr",
    "outputId": "d3022dbd-cfaa-46fd-8b7d-d259391b7ca5"
   },
   "outputs": [
    {
     "name": "stdout",
     "output_type": "stream",
     "text": [
      "Fitting 5 folds for each of 1 candidates, totalling 5 fits\n",
      "Training results\n",
      "Accuracy:  0.96\n",
      "Precision:  0.96\n",
      "Recall:  0.96\n",
      "F1 Score:  0.96\n",
      "ROC AUC Score:  1.0\n",
      "Classification Report:                              precision    recall  f1-score   support\n",
      "\n",
      "     Bank Account services       0.96      0.97      0.96      4202\n",
      "Credit card / Prepaid card       0.96      0.97      0.97      3459\n",
      "             Mortgage/Loan       0.97      0.97      0.97      3621\n",
      "                    Others       0.98      0.90      0.94      1701\n",
      "   Theft/Dispute Reporting       0.94      0.96      0.95      3874\n",
      "\n",
      "                  accuracy                           0.96     16857\n",
      "                 macro avg       0.96      0.95      0.96     16857\n",
      "              weighted avg       0.96      0.96      0.96     16857\n",
      "\n",
      "Test results\n",
      "Accuracy:  0.91\n",
      "Precision:  0.91\n",
      "Recall:  0.91\n",
      "F1 Score:  0.91\n",
      "ROC AUC Score:  0.99\n",
      "Classification Report:                              precision    recall  f1-score   support\n",
      "\n",
      "     Bank Account services       0.92      0.93      0.93      1051\n",
      "Credit card / Prepaid card       0.94      0.92      0.93       883\n",
      "             Mortgage/Loan       0.92      0.95      0.94       880\n",
      "                    Others       0.95      0.80      0.87       445\n",
      "   Theft/Dispute Reporting       0.86      0.90      0.88       956\n",
      "\n",
      "                  accuracy                           0.91      4215\n",
      "                 macro avg       0.92      0.90      0.91      4215\n",
      "              weighted avg       0.91      0.91      0.91      4215\n",
      "\n"
     ]
    },
    {
     "data": {
      "image/png": "[encoded data removed]",
      "text/plain": [
       "<Figure size 640x480 with 2 Axes>"
      ]
     },
     "metadata": {},
     "output_type": "display_data"
    },
    {
     "data": {
      "image/png": "[encoded data removed]",
      "text/plain": [
       "<Figure size 640x480 with 2 Axes>"
      ]
     },
     "metadata": {},
     "output_type": "display_data"
    }
   ],
   "source": [
    "#running and evaluating the Logistic Regression model\n",
    "params = {\n",
    "    'C': [0.001, 0.01, 0.1, 1, 10, 100],\n",
    "    'penalty': ['l1', 'l2', 'elasticnet', 'none'],\n",
    "    'solver': ['newton-cg', 'lbfgs', 'liblinear', 'sag', 'saga'],\n",
    "    'max_iter': [100, 200, 300, 500, 1000],\n",
    "    'class_weight': [None, 'balanced']\n",
    "}\n",
    "lr_model=run_model(LogisticRegression(),params)\n",
    "eval_model(train_y,lr_model.predict(train_X),lr_model.predict_proba(train_X),type='Training')\n",
    "eval_model(test_y,lr_model.predict(test_X),lr_model.predict_proba(test_X),type='Test')"
   ]
  },
  {
   "cell_type": "raw",
   "metadata": {
    "id": "EN3nN8gTzcQr"
   },
   "source": [
    "** Decision Trees **"
   ]
  },
  {
   "cell_type": "code",
   "execution_count": 93,
   "metadata": {
    "colab": {
     "base_uri": "https://localhost:8080/",
     "height": 1000
    },
    "id": "tH2hvYL6zcQr",
    "outputId": "4d2fd5b4-9fd4-4bce-9b19-17a6005c1549"
   },
   "outputs": [
    {
     "name": "stdout",
     "output_type": "stream",
     "text": [
      "Fitting 5 folds for each of 1 candidates, totalling 5 fits\n",
      "Training results\n",
      "Accuracy:  1.0\n",
      "Precision:  1.0\n",
      "Recall:  1.0\n",
      "F1 Score:  1.0\n",
      "ROC AUC Score:  1.0\n",
      "Classification Report:                              precision    recall  f1-score   support\n",
      "\n",
      "     Bank Account services       1.00      1.00      1.00      4202\n",
      "Credit card / Prepaid card       1.00      1.00      1.00      3459\n",
      "             Mortgage/Loan       1.00      1.00      1.00      3621\n",
      "                    Others       1.00      1.00      1.00      1701\n",
      "   Theft/Dispute Reporting       1.00      1.00      1.00      3874\n",
      "\n",
      "                  accuracy                           1.00     16857\n",
      "                 macro avg       1.00      1.00      1.00     16857\n",
      "              weighted avg       1.00      1.00      1.00     16857\n",
      "\n",
      "Test results\n",
      "Accuracy:  0.75\n",
      "Precision:  0.75\n",
      "Recall:  0.75\n",
      "F1 Score:  0.75\n",
      "ROC AUC Score:  0.84\n",
      "Classification Report:                              precision    recall  f1-score   support\n",
      "\n",
      "     Bank Account services       0.76      0.78      0.77      1051\n",
      "Credit card / Prepaid card       0.79      0.75      0.77       883\n",
      "             Mortgage/Loan       0.81      0.80      0.81       880\n",
      "                    Others       0.69      0.62      0.65       445\n",
      "   Theft/Dispute Reporting       0.68      0.72      0.70       956\n",
      "\n",
      "                  accuracy                           0.75      4215\n",
      "                 macro avg       0.74      0.74      0.74      4215\n",
      "              weighted avg       0.75      0.75      0.75      4215\n",
      "\n"
     ]
    },
    {
     "data": {
      "image/png": "[encoded data removed]",
      "text/plain": [
       "<Figure size 640x480 with 2 Axes>"
      ]
     },
     "metadata": {},
     "output_type": "display_data"
    },
    {
     "data": {
      "image/png": "[encoded data removed]",
      "text/plain": [
       "<Figure size 640x480 with 2 Axes>"
      ]
     },
     "metadata": {},
     "output_type": "display_data"
    }
   ],
   "source": [
    "#running and evaluating the Decision Tree model\n",
    "params = {\n",
    "    'criterion': ['gini', 'entropy'],\n",
    "    'splitter': ['best', 'random'],\n",
    "    'max_depth': [None, 2, 4, 6, 8, 10,12],\n",
    "    'min_samples_split': [2, 4, 6, 8, 10,15],\n",
    "    'min_samples_leaf': [1, 2, 4, 6, 8, 10,12],\n",
    "    'max_features': [None, 'auto', 'sqrt', 'log2']\n",
    "}\n",
    "dtr_model=run_model(DecisionTreeClassifier(),params)\n",
    "eval_model(train_y,dtr_model.predict(train_X),dtr_model.predict_proba(train_X),type='Training')\n",
    "eval_model(test_y,dtr_model.predict(test_X),dtr_model.predict_proba(test_X),type='Test')"
   ]
  },
  {
   "cell_type": "raw",
   "metadata": {
    "id": "4QKPw99zzcQs"
   },
   "source": [
    "** Random Forest **"
   ]
  },
  {
   "cell_type": "code",
   "execution_count": 94,
   "metadata": {
    "colab": {
     "base_uri": "https://localhost:8080/",
     "height": 1000
    },
    "id": "6DCCMUnXzcQs",
    "outputId": "53951370-99bc-46b4-fa72-ccf6a7a505d7"
   },
   "outputs": [
    {
     "name": "stdout",
     "output_type": "stream",
     "text": [
      "Fitting 5 folds for each of 1 candidates, totalling 5 fits\n",
      "Training results\n",
      "Accuracy:  1.0\n",
      "Precision:  1.0\n",
      "Recall:  1.0\n",
      "F1 Score:  1.0\n",
      "ROC AUC Score:  1.0\n",
      "Classification Report:                              precision    recall  f1-score   support\n",
      "\n",
      "     Bank Account services       1.00      1.00      1.00      4202\n",
      "Credit card / Prepaid card       1.00      1.00      1.00      3459\n",
      "             Mortgage/Loan       1.00      1.00      1.00      3621\n",
      "                    Others       1.00      1.00      1.00      1701\n",
      "   Theft/Dispute Reporting       1.00      1.00      1.00      3874\n",
      "\n",
      "                  accuracy                           1.00     16857\n",
      "                 macro avg       1.00      1.00      1.00     16857\n",
      "              weighted avg       1.00      1.00      1.00     16857\n",
      "\n",
      "Test results\n",
      "Accuracy:  0.81\n",
      "Precision:  0.81\n",
      "Recall:  0.81\n",
      "F1 Score:  0.8\n",
      "ROC AUC Score:  0.97\n",
      "Classification Report:                              precision    recall  f1-score   support\n",
      "\n",
      "     Bank Account services       0.79      0.90      0.84      1051\n",
      "Credit card / Prepaid card       0.82      0.82      0.82       883\n",
      "             Mortgage/Loan       0.82      0.90      0.86       880\n",
      "                    Others       0.93      0.52      0.67       445\n",
      "   Theft/Dispute Reporting       0.77      0.74      0.76       956\n",
      "\n",
      "                  accuracy                           0.81      4215\n",
      "                 macro avg       0.83      0.78      0.79      4215\n",
      "              weighted avg       0.81      0.81      0.80      4215\n",
      "\n"
     ]
    },
    {
     "data": {
      "image/png": "[encoded data removed]",
      "text/plain": [
       "<Figure size 640x480 with 2 Axes>"
      ]
     },
     "metadata": {},
     "output_type": "display_data"
    },
    {
     "data": {
      "image/png": "[encoded data removed]",
      "text/plain": [
       "<Figure size 640x480 with 2 Axes>"
      ]
     },
     "metadata": {},
     "output_type": "display_data"
    }
   ],
   "source": [
    "#running and evaluating the Random Forest model\n",
    "params = {\n",
    "    'n_estimators': [10, 50, 100, 200, 400,500],\n",
    "    'criterion': ['gini', 'entropy'],\n",
    "    'max_depth': [None, 2, 4, 6, 8, 10,15],\n",
    "    'min_samples_split': [2, 4, 6, 8, 10,20],\n",
    "    'min_samples_leaf': [1, 2, 4, 6, 8, 10,12],\n",
    "    'max_features': [None, 'auto', 'sqrt', 'log2'],\n",
    "    'bootstrap': [True, False]\n",
    "}\n",
    "rf_model=run_model(RandomForestClassifier(),params)\n",
    "eval_model(train_y,rf_model.predict(train_X),rf_model.predict_proba(train_X),type='Training')\n",
    "eval_model(test_y,rf_model.predict(test_X),rf_model.predict_proba(test_X),type='Test')"
   ]
  },
  {
   "cell_type": "markdown",
   "metadata": {
    "id": "bHuxeM70zcQt"
   },
   "source": [
    "### Results on Test Data"
   ]
  },
  {
   "cell_type": "raw",
   "metadata": {
    "id": "6OGo7aMFIeBe"
   },
   "source": [
    "Mode \t               Accuracy Precision\tRecall\tF1 Score\t ROC AUC Score\n",
    "Logistic Regression\t    0.91\t  0.91\t    0.91\t0.91\t     0.99\n",
    "DecisionTreeClassifier\t0.75\t  0.75\t    0.75\t0.75\t     0.84\n",
    "RandomForestClassifier\t0.81\t  0.81\t    0.8     0.81\t     0.97"
   ]
  },
  {
   "cell_type": "markdown",
   "metadata": {
    "id": "1SK5J5wlzcQt"
   },
   "source": [
    "### Conclusions"
   ]
  },
  {
   "cell_type": "raw",
   "metadata": {
    "id": "-TdujMYAzcQt"
   },
   "source": [
    "** Logistic Regression is best performing model having F1-Score of 0.91 on above tests. We can use Logistic Regression to predict topics for the new complaints. **"
   ]
  },
  {
   "cell_type": "code",
   "execution_count": 97,
   "metadata": {
    "id": "LRPQtayXzcQt"
   },
   "outputs": [],
   "source": [
    "# Applying the best model on the Custom Text\n",
    "# We will use the Logistic Regression model as it has the best performance\n",
    "df_complaints = pd.DataFrame({'complaints': [\"I can not get from chase who services my mortgage, who owns it and who has original loan docs\",\n",
    "                                  \"The bill amount of my credit card was debited twice. Please look into the matter and resolve at the earliest.\",\n",
    "                                  \"I want to open a salary account at your downtown branch. Please provide me the procedure.\",\n",
    "                                  \"Yesterday, I received a fraudulent email regarding renewal of my services.\",\n",
    "                                  \"What is the procedure to know my CIBIL score?\",\n",
    "                                  \"I need to know the number of bank branches and their locations in the city of Dubai\"]})"
   ]
  },
  {
   "cell_type": "code",
   "execution_count": 98,
   "metadata": {
    "colab": {
     "base_uri": "https://localhost:8080/",
     "height": 237
    },
    "id": "sYkc2Y0SzcQu",
    "outputId": "b9ec9554-8361-4b73-97b1-8440ed6819ce"
   },
   "outputs": [
    {
     "data": {
      "text/html": [
       "<div>\n",
       "<style scoped>\n",
       "    .dataframe tbody tr th:only-of-type {\n",
       "        vertical-align: middle;\n",
       "    }\n",
       "\n",
       "    .dataframe tbody tr th {\n",
       "        vertical-align: top;\n",
       "    }\n",
       "\n",
       "    .dataframe thead th {\n",
       "        text-align: right;\n",
       "    }\n",
       "</style>\n",
       "<table border=\"1\" class=\"dataframe\">\n",
       "  <thead>\n",
       "    <tr style=\"text-align: right;\">\n",
       "      <th></th>\n",
       "      <th>complaints</th>\n",
       "    </tr>\n",
       "  </thead>\n",
       "  <tbody>\n",
       "    <tr>\n",
       "      <th>0</th>\n",
       "      <td>I can not get from chase who services my mortg...</td>\n",
       "    </tr>\n",
       "    <tr>\n",
       "      <th>1</th>\n",
       "      <td>The bill amount of my credit card was debited ...</td>\n",
       "    </tr>\n",
       "    <tr>\n",
       "      <th>2</th>\n",
       "      <td>I want to open a salary account at your downto...</td>\n",
       "    </tr>\n",
       "    <tr>\n",
       "      <th>3</th>\n",
       "      <td>Yesterday, I received a fraudulent email regar...</td>\n",
       "    </tr>\n",
       "    <tr>\n",
       "      <th>4</th>\n",
       "      <td>What is the procedure to know my CIBIL score?</td>\n",
       "    </tr>\n",
       "    <tr>\n",
       "      <th>5</th>\n",
       "      <td>I need to know the number of bank branches and...</td>\n",
       "    </tr>\n",
       "  </tbody>\n",
       "</table>\n",
       "</div>"
      ],
      "text/plain": [
       "                                          complaints\n",
       "0  I can not get from chase who services my mortg...\n",
       "1  The bill amount of my credit card was debited ...\n",
       "2  I want to open a salary account at your downto...\n",
       "3  Yesterday, I received a fraudulent email regar...\n",
       "4      What is the procedure to know my CIBIL score?\n",
       "5  I need to know the number of bank branches and..."
      ]
     },
     "execution_count": 98,
     "metadata": {},
     "output_type": "execute_result"
    }
   ],
   "source": [
    "df_complaints"
   ]
  },
  {
   "cell_type": "code",
   "execution_count": 99,
   "metadata": {
    "id": "WMMqrRqEzcQu"
   },
   "outputs": [],
   "source": [
    "def predict_lr(text):\n",
    "    Topic_names = {\n",
    "        0: 'Theft/Dispute Reporting',\n",
    "        1: 'Bank Account services',\n",
    "        2: 'Mortgage/Loan',\n",
    "        3: 'Credit card / Prepaid card',\n",
    "        4: 'Others'\n",
    "    }\n",
    "    X_new_counts = count_vect.transform([text])  # Pass text as a list containing one string\n",
    "    X_new_tfidf = tfidf_transformer.transform(X_new_counts)\n",
    "    predicted = lr_model.predict(X_new_tfidf)\n",
    "    predicted_label = predicted[0]\n",
    "    if isinstance(predicted_label, int):\n",
    "        return Topic_names[predicted_label]\n",
    "    else:\n",
    "        # If the predicted label is a string, return it directly\n",
    "        return predicted_label"
   ]
  },
  {
   "cell_type": "code",
   "execution_count": 100,
   "metadata": {
    "colab": {
     "base_uri": "https://localhost:8080/",
     "height": 237
    },
    "id": "7Y8P9xP2zcQu",
    "outputId": "cc860a9a-6bcf-4643-8603-30cf4866f389"
   },
   "outputs": [
    {
     "data": {
      "text/html": [
       "<div>\n",
       "<style scoped>\n",
       "    .dataframe tbody tr th:only-of-type {\n",
       "        vertical-align: middle;\n",
       "    }\n",
       "\n",
       "    .dataframe tbody tr th {\n",
       "        vertical-align: top;\n",
       "    }\n",
       "\n",
       "    .dataframe thead th {\n",
       "        text-align: right;\n",
       "    }\n",
       "</style>\n",
       "<table border=\"1\" class=\"dataframe\">\n",
       "  <thead>\n",
       "    <tr style=\"text-align: right;\">\n",
       "      <th></th>\n",
       "      <th>complaints</th>\n",
       "      <th>predicted_label</th>\n",
       "    </tr>\n",
       "  </thead>\n",
       "  <tbody>\n",
       "    <tr>\n",
       "      <th>0</th>\n",
       "      <td>I can not get from chase who services my mortg...</td>\n",
       "      <td>Mortgage/Loan</td>\n",
       "    </tr>\n",
       "    <tr>\n",
       "      <th>1</th>\n",
       "      <td>The bill amount of my credit card was debited ...</td>\n",
       "      <td>Credit card / Prepaid card</td>\n",
       "    </tr>\n",
       "    <tr>\n",
       "      <th>2</th>\n",
       "      <td>I want to open a salary account at your downto...</td>\n",
       "      <td>Bank Account services</td>\n",
       "    </tr>\n",
       "    <tr>\n",
       "      <th>3</th>\n",
       "      <td>Yesterday, I received a fraudulent email regar...</td>\n",
       "      <td>Theft/Dispute Reporting</td>\n",
       "    </tr>\n",
       "    <tr>\n",
       "      <th>4</th>\n",
       "      <td>What is the procedure to know my CIBIL score?</td>\n",
       "      <td>Credit card / Prepaid card</td>\n",
       "    </tr>\n",
       "    <tr>\n",
       "      <th>5</th>\n",
       "      <td>I need to know the number of bank branches and...</td>\n",
       "      <td>Bank Account services</td>\n",
       "    </tr>\n",
       "  </tbody>\n",
       "</table>\n",
       "</div>"
      ],
      "text/plain": [
       "                                          complaints  \\\n",
       "0  I can not get from chase who services my mortg...   \n",
       "1  The bill amount of my credit card was debited ...   \n",
       "2  I want to open a salary account at your downto...   \n",
       "3  Yesterday, I received a fraudulent email regar...   \n",
       "4      What is the procedure to know my CIBIL score?   \n",
       "5  I need to know the number of bank branches and...   \n",
       "\n",
       "              predicted_label  \n",
       "0               Mortgage/Loan  \n",
       "1  Credit card / Prepaid card  \n",
       "2       Bank Account services  \n",
       "3     Theft/Dispute Reporting  \n",
       "4  Credit card / Prepaid card  \n",
       "5       Bank Account services  "
      ]
     },
     "execution_count": 100,
     "metadata": {},
     "output_type": "execute_result"
    }
   ],
   "source": [
    "# predicted text\n",
    "df_complaints['predicted_label'] = df_complaints['complaints'].apply(predict_lr)\n",
    "df_complaints"
   ]
  },
  {
   "cell_type": "raw",
   "metadata": {
    "id": "cdqMZ9gQzcQu"
   },
   "source": [
    "** Logistic Regression working well on unseen data as well. Hence this is the better model for this dataset. **"
   ]
  },
  {
   "cell_type": "code",
   "execution_count": null,
   "metadata": {
    "id": "shCgo6gfzcQu"
   },
   "outputs": [],
   "source": []
  }
 ],
 "metadata": {
  "accelerator": "GPU",
  "colab": {
   "collapsed_sections": [
    "T9jD_6SeJrF3",
    "5DfCSbbmJrF4",
    "yYzD85nTJrGA",
    "piyLxzj6v07j",
    "280Vbqk-7a8M"
   ],
   "gpuType": "T4",
   "provenance": []
  },
  "kaggle": {
   "accelerator": "gpu",
   "dataSources": [
    {
     "datasetId": 4846775,
     "sourceId": 8185419,
     "sourceType": "datasetVersion"
    }
   ],
   "dockerImageVersionId": 30698,
   "isGpuEnabled": true,
   "isInternetEnabled": true,
   "language": "python",
   "sourceType": "notebook"
  },
  "kernelspec": {
   "display_name": "Python (myenv)",
   "language": "python",
   "name": "myenv"
  },
  "language_info": {
   "codemirror_mode": {
    "name": "ipython",
    "version": 3
   },
   "file_extension": ".py",
   "mimetype": "text/x-python",
   "name": "python",
   "nbconvert_exporter": "python",
   "pygments_lexer": "ipython3",
   "version": "3.12.3"
  },
  "widgets": {
   "application/vnd.jupyter.widget-state+json": {
    "08536ef3e4ab40afa4b91f325b896a49": {
     "model_module": "@jupyter-widgets/controls",
     "model_module_version": "1.5.0",
     "model_name": "FloatProgressModel",
     "state": {
      "_dom_classes": [],
      "_model_module": "@jupyter-widgets/controls",
      "_model_module_version": "1.5.0",
      "_model_name": "FloatProgressModel",
      "_view_count": null,
      "_view_module": "@jupyter-widgets/controls",
      "_view_module_version": "1.5.0",
      "_view_name": "ProgressView",
      "bar_style": "success",
      "description": "",
      "description_tooltip": null,
      "layout": "IPY_MODEL_0f4da2dbd7b34631afac4bfa9bad46cc",
      "max": 21072,
      "min": 0,
      "orientation": "horizontal",
      "style": "IPY_MODEL_3e992ab8acbe4661be2f98eef9a57c46",
      "value": 21072
     }
    },
    "0f4da2dbd7b34631afac4bfa9bad46cc": {
     "model_module": "@jupyter-widgets/base",
     "model_module_version": "1.2.0",
     "model_name": "LayoutModel",
     "state": {
      "_model_module": "@jupyter-widgets/base",
      "_model_module_version": "1.2.0",
      "_model_name": "LayoutModel",
      "_view_count": null,
      "_view_module": "@jupyter-widgets/base",
      "_view_module_version": "1.2.0",
      "_view_name": "LayoutView",
      "align_content": null,
      "align_items": null,
      "align_self": null,
      "border": null,
      "bottom": null,
      "display": null,
      "flex": null,
      "flex_flow": null,
      "grid_area": null,
      "grid_auto_columns": null,
      "grid_auto_flow": null,
      "grid_auto_rows": null,
      "grid_column": null,
      "grid_gap": null,
      "grid_row": null,
      "grid_template_areas": null,
      "grid_template_columns": null,
      "grid_template_rows": null,
      "height": null,
      "justify_content": null,
      "justify_items": null,
      "left": null,
      "margin": null,
      "max_height": null,
      "max_width": null,
      "min_height": null,
      "min_width": null,
      "object_fit": null,
      "object_position": null,
      "order": null,
      "overflow": null,
      "overflow_x": null,
      "overflow_y": null,
      "padding": null,
      "right": null,
      "top": null,
      "visibility": null,
      "width": null
     }
    },
    "3e992ab8acbe4661be2f98eef9a57c46": {
     "model_module": "@jupyter-widgets/controls",
     "model_module_version": "1.5.0",
     "model_name": "ProgressStyleModel",
     "state": {
      "_model_module": "@jupyter-widgets/controls",
      "_model_module_version": "1.5.0",
      "_model_name": "ProgressStyleModel",
      "_view_count": null,
      "_view_module": "@jupyter-widgets/base",
      "_view_module_version": "1.2.0",
      "_view_name": "StyleView",
      "bar_color": null,
      "description_width": ""
     }
    },
    "4d57e20a9ba54aec8097fc96fdf64cfb": {
     "model_module": "@jupyter-widgets/controls",
     "model_module_version": "1.5.0",
     "model_name": "HTMLModel",
     "state": {
      "_dom_classes": [],
      "_model_module": "@jupyter-widgets/controls",
      "_model_module_version": "1.5.0",
      "_model_name": "HTMLModel",
      "_view_count": null,
      "_view_module": "@jupyter-widgets/controls",
      "_view_module_version": "1.5.0",
      "_view_name": "HTMLView",
      "description": "",
      "description_tooltip": null,
      "layout": "IPY_MODEL_8ab889ca0e584dd38d6532750c8c4ec8",
      "placeholder": "​",
      "style": "IPY_MODEL_fdba4911aeda4c71b54cd97a02adb082",
      "value": "Pandas Apply: 100%"
     }
    },
    "53e46d93cf16499c86149c2dcba7dabf": {
     "model_module": "@jupyter-widgets/controls",
     "model_module_version": "1.5.0",
     "model_name": "HTMLModel",
     "state": {
      "_dom_classes": [],
      "_model_module": "@jupyter-widgets/controls",
      "_model_module_version": "1.5.0",
      "_model_name": "HTMLModel",
      "_view_count": null,
      "_view_module": "@jupyter-widgets/controls",
      "_view_module_version": "1.5.0",
      "_view_name": "HTMLView",
      "description": "",
      "description_tooltip": null,
      "layout": "IPY_MODEL_6a7c5dd3420143eb803152c8f16952d3",
      "placeholder": "​",
      "style": "IPY_MODEL_a012ba6a0b504ede9b9014defa2e0dab",
      "value": " 21072/21072 [08:06&lt;00:00, 32.48it/s]"
     }
    },
    "6a7c5dd3420143eb803152c8f16952d3": {
     "model_module": "@jupyter-widgets/base",
     "model_module_version": "1.2.0",
     "model_name": "LayoutModel",
     "state": {
      "_model_module": "@jupyter-widgets/base",
      "_model_module_version": "1.2.0",
      "_model_name": "LayoutModel",
      "_view_count": null,
      "_view_module": "@jupyter-widgets/base",
      "_view_module_version": "1.2.0",
      "_view_name": "LayoutView",
      "align_content": null,
      "align_items": null,
      "align_self": null,
      "border": null,
      "bottom": null,
      "display": null,
      "flex": null,
      "flex_flow": null,
      "grid_area": null,
      "grid_auto_columns": null,
      "grid_auto_flow": null,
      "grid_auto_rows": null,
      "grid_column": null,
      "grid_gap": null,
      "grid_row": null,
      "grid_template_areas": null,
      "grid_template_columns": null,
      "grid_template_rows": null,
      "height": null,
      "justify_content": null,
      "justify_items": null,
      "left": null,
      "margin": null,
      "max_height": null,
      "max_width": null,
      "min_height": null,
      "min_width": null,
      "object_fit": null,
      "object_position": null,
      "order": null,
      "overflow": null,
      "overflow_x": null,
      "overflow_y": null,
      "padding": null,
      "right": null,
      "top": null,
      "visibility": null,
      "width": null
     }
    },
    "8ab889ca0e584dd38d6532750c8c4ec8": {
     "model_module": "@jupyter-widgets/base",
     "model_module_version": "1.2.0",
     "model_name": "LayoutModel",
     "state": {
      "_model_module": "@jupyter-widgets/base",
      "_model_module_version": "1.2.0",
      "_model_name": "LayoutModel",
      "_view_count": null,
      "_view_module": "@jupyter-widgets/base",
      "_view_module_version": "1.2.0",
      "_view_name": "LayoutView",
      "align_content": null,
      "align_items": null,
      "align_self": null,
      "border": null,
      "bottom": null,
      "display": null,
      "flex": null,
      "flex_flow": null,
      "grid_area": null,
      "grid_auto_columns": null,
      "grid_auto_flow": null,
      "grid_auto_rows": null,
      "grid_column": null,
      "grid_gap": null,
      "grid_row": null,
      "grid_template_areas": null,
      "grid_template_columns": null,
      "grid_template_rows": null,
      "height": null,
      "justify_content": null,
      "justify_items": null,
      "left": null,
      "margin": null,
      "max_height": null,
      "max_width": null,
      "min_height": null,
      "min_width": null,
      "object_fit": null,
      "object_position": null,
      "order": null,
      "overflow": null,
      "overflow_x": null,
      "overflow_y": null,
      "padding": null,
      "right": null,
      "top": null,
      "visibility": null,
      "width": null
     }
    },
    "a012ba6a0b504ede9b9014defa2e0dab": {
     "model_module": "@jupyter-widgets/controls",
     "model_module_version": "1.5.0",
     "model_name": "DescriptionStyleModel",
     "state": {
      "_model_module": "@jupyter-widgets/controls",
      "_model_module_version": "1.5.0",
      "_model_name": "DescriptionStyleModel",
      "_view_count": null,
      "_view_module": "@jupyter-widgets/base",
      "_view_module_version": "1.2.0",
      "_view_name": "StyleView",
      "description_width": ""
     }
    },
    "bd8f11e6c35f448f9dd3237462325bd6": {
     "model_module": "@jupyter-widgets/controls",
     "model_module_version": "1.5.0",
     "model_name": "HBoxModel",
     "state": {
      "_dom_classes": [],
      "_model_module": "@jupyter-widgets/controls",
      "_model_module_version": "1.5.0",
      "_model_name": "HBoxModel",
      "_view_count": null,
      "_view_module": "@jupyter-widgets/controls",
      "_view_module_version": "1.5.0",
      "_view_name": "HBoxView",
      "box_style": "",
      "children": [
       "IPY_MODEL_4d57e20a9ba54aec8097fc96fdf64cfb",
       "IPY_MODEL_08536ef3e4ab40afa4b91f325b896a49",
       "IPY_MODEL_53e46d93cf16499c86149c2dcba7dabf"
      ],
      "layout": "IPY_MODEL_ff4785184ebb4df18fc9c3764a49b483"
     }
    },
    "fdba4911aeda4c71b54cd97a02adb082": {
     "model_module": "@jupyter-widgets/controls",
     "model_module_version": "1.5.0",
     "model_name": "DescriptionStyleModel",
     "state": {
      "_model_module": "@jupyter-widgets/controls",
      "_model_module_version": "1.5.0",
      "_model_name": "DescriptionStyleModel",
      "_view_count": null,
      "_view_module": "@jupyter-widgets/base",
      "_view_module_version": "1.2.0",
      "_view_name": "StyleView",
      "description_width": ""
     }
    },
    "ff4785184ebb4df18fc9c3764a49b483": {
     "model_module": "@jupyter-widgets/base",
     "model_module_version": "1.2.0",
     "model_name": "LayoutModel",
     "state": {
      "_model_module": "@jupyter-widgets/base",
      "_model_module_version": "1.2.0",
      "_model_name": "LayoutModel",
      "_view_count": null,
      "_view_module": "@jupyter-widgets/base",
      "_view_module_version": "1.2.0",
      "_view_name": "LayoutView",
      "align_content": null,
      "align_items": null,
      "align_self": null,
      "border": null,
      "bottom": null,
      "display": null,
      "flex": null,
      "flex_flow": null,
      "grid_area": null,
      "grid_auto_columns": null,
      "grid_auto_flow": null,
      "grid_auto_rows": null,
      "grid_column": null,
      "grid_gap": null,
      "grid_row": null,
      "grid_template_areas": null,
      "grid_template_columns": null,
      "grid_template_rows": null,
      "height": null,
      "justify_content": null,
      "justify_items": null,
      "left": null,
      "margin": null,
      "max_height": null,
      "max_width": null,
      "min_height": null,
      "min_width": null,
      "object_fit": null,
      "object_position": null,
      "order": null,
      "overflow": null,
      "overflow_x": null,
      "overflow_y": null,
      "padding": null,
      "right": null,
      "top": null,
      "visibility": null,
      "width": null
     }
    }
   }
  }
 },
 "nbformat": 4,
 "nbformat_minor": 4
}
